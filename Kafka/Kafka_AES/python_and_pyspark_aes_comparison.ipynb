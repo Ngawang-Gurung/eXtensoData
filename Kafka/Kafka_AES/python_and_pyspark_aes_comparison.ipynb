{
 "cells": [
  {
   "cell_type": "code",
   "execution_count": 1,
   "metadata": {},
   "outputs": [],
   "source": [
    "import os\n",
    "from dotenv import load_dotenv\n",
    "\n",
    "load_dotenv()\n",
    "\n",
    "SUPER_SECRET_KEY= os.getenv('SUPER_SECRET_KEY')"
   ]
  },
  {
   "cell_type": "markdown",
   "metadata": {},
   "source": [
    "### Python AES"
   ]
  },
  {
   "cell_type": "code",
   "execution_count": 2,
   "metadata": {},
   "outputs": [
    {
     "name": "stdout",
     "output_type": "stream",
     "text": [
      "ddnxRBqlrpMc36PJwMCt1wV9z0COXgAEHrG3ZUfUW8/ROcXLR/VDC2uabuytKrfn\n"
     ]
    }
   ],
   "source": [
    "from helper import aes_encrypt as aes\n",
    "pandas_aes = aes('Counterintuitiveinterpretationphenomenon', SUPER_SECRET_KEY)\n",
    "print(pandas_aes)"
   ]
  },
  {
   "cell_type": "markdown",
   "metadata": {},
   "source": [
    "### PySpark SQL AES"
   ]
  },
  {
   "cell_type": "code",
   "execution_count": 3,
   "metadata": {},
   "outputs": [
    {
     "name": "stderr",
     "output_type": "stream",
     "text": [
      "Setting default log level to \"WARN\".\n",
      "To adjust logging level use sc.setLogLevel(newLevel). For SparkR, use setLogLevel(newLevel).\n",
      "24/07/31 12:32:15 WARN NativeCodeLoader: Unable to load native-hadoop library for your platform... using builtin-java classes where applicable\n",
      "                                                                                \r"
     ]
    },
    {
     "name": "stdout",
     "output_type": "stream",
     "text": [
      "+----------------------------------------------------------------+\n",
      "|encrypted_text                                                  |\n",
      "+----------------------------------------------------------------+\n",
      "|ddnxRBqlrpMc36PJwMCt1wV9z0COXgAEHrG3ZUfUW8/ROcXLR/VDC2uabuytKrfn|\n",
      "+----------------------------------------------------------------+\n",
      "\n"
     ]
    }
   ],
   "source": [
    "from pyspark.sql import SparkSession\n",
    "from pyspark.sql.functions import expr, base64\n",
    "\n",
    "spark = SparkSession.builder \\\n",
    "    .appName(\"Spark\") \\\n",
    "    .getOrCreate()\n",
    "\n",
    "df = spark.createDataFrame([(\"Counterintuitiveinterpretationphenomenon\",)], [\"text\"])\n",
    "\n",
    "\n",
    "encrypted_df = df.select(\n",
    "    expr(f\"base64(aes_encrypt(text, '{SUPER_SECRET_KEY}', 'ECB')) as encrypted_text\")\n",
    ")\n",
    "\n",
    "encrypted_df.show(truncate=False)"
   ]
  }
 ],
 "metadata": {
  "kernelspec": {
   "display_name": "Python 3",
   "language": "python",
   "name": "python3"
  },
  "language_info": {
   "codemirror_mode": {
    "name": "ipython",
    "version": 3
   },
   "file_extension": ".py",
   "mimetype": "text/x-python",
   "name": "python",
   "nbconvert_exporter": "python",
   "pygments_lexer": "ipython3",
   "version": "3.10.12"
  }
 },
 "nbformat": 4,
 "nbformat_minor": 2
}
