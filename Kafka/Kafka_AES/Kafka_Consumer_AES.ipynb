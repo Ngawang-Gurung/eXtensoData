{
 "cells": [
  {
   "cell_type": "code",
   "execution_count": 1,
   "metadata": {},
   "outputs": [
    {
     "data": {
      "text/plain": [
       "'\\nAuthor: Ngawang Gurung\\nDate: 2024/07/24\\n'"
      ]
     },
     "execution_count": 1,
     "metadata": {},
     "output_type": "execute_result"
    }
   ],
   "source": [
    "'''\n",
    "Author: Ngawang Gurung\n",
    "Date: 2024/07/24\n",
    "'''"
   ]
  },
  {
   "cell_type": "code",
   "execution_count": 2,
   "metadata": {},
   "outputs": [],
   "source": [
    "from pyspark.sql import SparkSession\n",
    "from pyspark.sql.functions import *\n",
    "from pyspark.ml.feature import Normalizer, StandardScaler\n",
    "import random, time\n",
    "\n",
    "import os\n",
    "from dotenv import load_dotenv"
   ]
  },
  {
   "cell_type": "code",
   "execution_count": 3,
   "metadata": {},
   "outputs": [
    {
     "name": "stdout",
     "output_type": "stream",
     "text": [
      ":: loading settings :: url = jar:file:/home/user/.local/lib/python3.10/site-packages/pyspark/jars/ivy-2.5.1.jar!/org/apache/ivy/core/settings/ivysettings.xml\n"
     ]
    },
    {
     "name": "stderr",
     "output_type": "stream",
     "text": [
      "Ivy Default Cache set to: /home/user/.ivy2/cache\n",
      "The jars for the packages stored in: /home/user/.ivy2/jars\n",
      "org.apache.spark#spark-sql-kafka-0-10_2.12 added as a dependency\n",
      ":: resolving dependencies :: org.apache.spark#spark-submit-parent-4579162b-e618-4882-a9bb-967bbbd930e8;1.0\n",
      "\tconfs: [default]\n",
      "\tfound org.apache.spark#spark-sql-kafka-0-10_2.12;3.5.1 in central\n",
      "\tfound org.apache.spark#spark-token-provider-kafka-0-10_2.12;3.5.1 in central\n",
      "\tfound org.apache.kafka#kafka-clients;3.4.1 in central\n",
      "\tfound org.lz4#lz4-java;1.8.0 in central\n",
      "\tfound org.xerial.snappy#snappy-java;1.1.10.3 in central\n",
      "\tfound org.slf4j#slf4j-api;2.0.7 in central\n",
      "\tfound org.apache.hadoop#hadoop-client-runtime;3.3.4 in central\n",
      "\tfound org.apache.hadoop#hadoop-client-api;3.3.4 in central\n",
      "\tfound commons-logging#commons-logging;1.1.3 in central\n",
      "\tfound com.google.code.findbugs#jsr305;3.0.0 in central\n",
      "\tfound org.apache.commons#commons-pool2;2.11.1 in central\n",
      ":: resolution report :: resolve 510ms :: artifacts dl 20ms\n",
      "\t:: modules in use:\n",
      "\tcom.google.code.findbugs#jsr305;3.0.0 from central in [default]\n",
      "\tcommons-logging#commons-logging;1.1.3 from central in [default]\n",
      "\torg.apache.commons#commons-pool2;2.11.1 from central in [default]\n",
      "\torg.apache.hadoop#hadoop-client-api;3.3.4 from central in [default]\n",
      "\torg.apache.hadoop#hadoop-client-runtime;3.3.4 from central in [default]\n",
      "\torg.apache.kafka#kafka-clients;3.4.1 from central in [default]\n",
      "\torg.apache.spark#spark-sql-kafka-0-10_2.12;3.5.1 from central in [default]\n",
      "\torg.apache.spark#spark-token-provider-kafka-0-10_2.12;3.5.1 from central in [default]\n",
      "\torg.lz4#lz4-java;1.8.0 from central in [default]\n",
      "\torg.slf4j#slf4j-api;2.0.7 from central in [default]\n",
      "\torg.xerial.snappy#snappy-java;1.1.10.3 from central in [default]\n",
      "\t---------------------------------------------------------------------\n",
      "\t|                  |            modules            ||   artifacts   |\n",
      "\t|       conf       | number| search|dwnlded|evicted|| number|dwnlded|\n",
      "\t---------------------------------------------------------------------\n",
      "\t|      default     |   11  |   0   |   0   |   0   ||   11  |   0   |\n",
      "\t---------------------------------------------------------------------\n",
      ":: retrieving :: org.apache.spark#spark-submit-parent-4579162b-e618-4882-a9bb-967bbbd930e8\n",
      "\tconfs: [default]\n",
      "\t0 artifacts copied, 11 already retrieved (0kB/11ms)\n",
      "24/07/24 17:16:12 WARN NativeCodeLoader: Unable to load native-hadoop library for your platform... using builtin-java classes where applicable\n",
      "Setting default log level to \"WARN\".\n",
      "To adjust logging level use sc.setLogLevel(newLevel). For SparkR, use setLogLevel(newLevel).\n",
      "24/07/24 17:16:13 WARN Utils: Service 'SparkUI' could not bind on port 4040. Attempting port 4041.\n",
      "24/07/24 17:16:13 WARN Utils: Service 'SparkUI' could not bind on port 4041. Attempting port 4042.\n"
     ]
    }
   ],
   "source": [
    "spark = SparkSession.builder \\\n",
    "    .appName(\"Spark Streaming\") \\\n",
    "    .master(\"local[*]\") \\\n",
    "    .config(\"spark.jars.packages\", \"org.apache.spark:spark-sql-kafka-0-10_2.12:3.5.1\") \\\n",
    "    .getOrCreate()\n",
    "\n",
    "spark.sparkContext.setLogLevel(\"ERROR\")"
   ]
  },
  {
   "cell_type": "code",
   "execution_count": 4,
   "metadata": {},
   "outputs": [],
   "source": [
    "KAFKA_TOPIC = \"am\"\n",
    "KAFKA_BOOTSTRAP_SERVERS = \"localhost:9092\""
   ]
  },
  {
   "cell_type": "code",
   "execution_count": 5,
   "metadata": {},
   "outputs": [],
   "source": [
    "df = spark.readStream \\\n",
    "    .format(\"kafka\") \\\n",
    "    .option(\"kafka.bootstrap.servers\", KAFKA_BOOTSTRAP_SERVERS) \\\n",
    "    .option(\"subscribe\", KAFKA_TOPIC) \\\n",
    "    .option(\"startingOffsets\", \"earliest\") \\\n",
    "    .load()"
   ]
  },
  {
   "cell_type": "code",
   "execution_count": 6,
   "metadata": {},
   "outputs": [
    {
     "name": "stdout",
     "output_type": "stream",
     "text": [
      "root\n",
      " |-- key: binary (nullable = true)\n",
      " |-- value: binary (nullable = true)\n",
      " |-- topic: string (nullable = true)\n",
      " |-- partition: integer (nullable = true)\n",
      " |-- offset: long (nullable = true)\n",
      " |-- timestamp: timestamp (nullable = true)\n",
      " |-- timestampType: integer (nullable = true)\n",
      "\n"
     ]
    }
   ],
   "source": [
    "df.printSchema()"
   ]
  },
  {
   "cell_type": "code",
   "execution_count": 7,
   "metadata": {},
   "outputs": [
    {
     "name": "stdout",
     "output_type": "stream",
     "text": [
      "root\n",
      " |-- value: string (nullable = true)\n",
      " |-- timestamp: timestamp (nullable = true)\n",
      "\n"
     ]
    }
   ],
   "source": [
    "df1 = df.selectExpr(\"CAST(value AS STRING)\", \"timestamp\")\n",
    "df1.printSchema()"
   ]
  },
  {
   "cell_type": "code",
   "execution_count": 8,
   "metadata": {},
   "outputs": [],
   "source": [
    "\n",
    "schema_string = \"account_number STRING, customer_code STRING, product STRING, \\\n",
    "                product_category STRING, acc_open_date DATE, acc_closed_date DATE, active_flag INT\"\n",
    "            \n",
    "df2 = df1.select(from_csv(col(\"value\"), schema_string).alias(\"mytable\"), \"timestamp\")\n",
    "df3 = df2.select(\"mytable.*\", \"timestamp\")\n",
    "\n",
    "load_dotenv()\n",
    "\n",
    "SUPER_SECRET_KEY = os.getenv('SUPER_SECRET_KEY') # Super secret key (must be 16, 24, or 32 bytes long)\n",
    "df_decrypted = df3.withColumn('account_number_decrypted', expr(f\"aes_decrypt(unbase64(account_number), '{SUPER_SECRET_KEY}', 'ECB')\").cast('string'))\n",
    "\n",
    "df_decrypted.createOrReplaceTempView(\"table_view\");\n",
    "df4 = spark.sql(\"SELECT * FROM table_view\")"
   ]
  },
  {
   "cell_type": "code",
   "execution_count": 9,
   "metadata": {},
   "outputs": [
    {
     "data": {
      "text/plain": [
       "False"
      ]
     },
     "execution_count": 9,
     "metadata": {},
     "output_type": "execute_result"
    }
   ],
   "source": [
    "my_write_stream = df4.writeStream \\\n",
    "        .trigger(processingTime='5 seconds') \\\n",
    "        .outputMode(\"append\") \\\n",
    "        .option(\"truncate\", \"false\") \\\n",
    "        .format(\"memory\") \\\n",
    "        .queryName(\"testedTable\") \\\n",
    "        .start()\n",
    "my_write_stream.awaitTermination(1)"
   ]
  },
  {
   "cell_type": "code",
   "execution_count": 11,
   "metadata": {},
   "outputs": [
    {
     "name": "stdout",
     "output_type": "stream",
     "text": [
      "+--------------------+-------------+-------+----------------+-------------+---------------+-----------+--------------------+------------------------+\n",
      "|      account_number|customer_code|product|product_category|acc_open_date|acc_closed_date|active_flag|           timestamp|account_number_decrypted|\n",
      "+--------------------+-------------+-------+----------------+-------------+---------------+-----------+--------------------+------------------------+\n",
      "|+Y7DNNNCRLxa9tHil...|    KL0255921|    SBA|           SBPPS|   1999-03-10|           NULL|          0|2024-07-24 17:16:...|     02XYZXYZ10015592101|\n",
      "|U7RRmweke5W8oVRNv...|    KL0255937|    SBA|           SBPPS|   1999-03-10|           NULL|          0|2024-07-24 17:16:...|     02XYZXYZ10015593701|\n",
      "|U7RRmweke5W8oVRNv...|    KL0255938|    SBA|           SBPPS|   1999-03-10|           NULL|          0|2024-07-24 17:16:...|     02XYZXYZ10015593801|\n",
      "|Khed5di6hfdejAOOB...|    KL0255948|    SBA|           SBANU|   1999-03-22|           NULL|          0|2024-07-24 17:16:...|     02XYZXYZ10015594801|\n",
      "|wt0lfnWsGTalCHEtZ...|    KL0255976|    SBA|           SBPPS|   1999-04-22|           NULL|          0|2024-07-24 17:16:...|     02XYZXYZ10015597601|\n",
      "|wt0lfnWsGTalCHEtZ...|    KL0255977|    SBA|           SBPPS|   1999-04-22|           NULL|          0|2024-07-24 17:16:...|     02XYZXYZ10015597701|\n",
      "|wt0lfnWsGTalCHEtZ...|    KL0255978|    SBA|           SBPPS|   1999-04-22|           NULL|          0|2024-07-24 17:16:...|     02XYZXYZ10015597801|\n",
      "|FtDcN60NxCHnK87Ag...|    KL0255983|    SBA|           SBPPS|   1999-04-22|           NULL|          0|2024-07-24 17:16:...|     02XYZXYZ10015598301|\n",
      "|FtDcN60NxCHnK87Ag...|    KL0255984|    SBA|           SBPPS|   1999-04-22|           NULL|          0|2024-07-24 17:16:...|     02XYZXYZ10015598401|\n",
      "|tSvhbUmKvtWBJS3xM...|    KL0255990|    SBA|           SBPPS|   1999-05-26|           NULL|          0|2024-07-24 17:16:...|     02XYZXYZ10015599001|\n",
      "|93f4EOW+S5XKAOXow...|    PB2122003|    SBA|           SBSTF|   2010-02-16|           NULL|          0|2024-07-24 17:16:...|    02XYZXYZ100172100401|\n",
      "|93f4EOW+S5XKAOXow...|    PB2127846|    SBA|           SBSTF|   2010-04-01|           NULL|          0|2024-07-24 17:16:...|    02XYZXYZ100172101301|\n",
      "|93f4EOW+S5XKAOXow...|    PB2169679|    SBA|           SBSTF|   2011-02-14|           NULL|          0|2024-07-24 17:16:...|    02XYZXYZ100172102301|\n",
      "|93f4EOW+S5XKAOXow...|    PB2169686|    SBA|           SBSTF|   2011-02-14|           NULL|          0|2024-07-24 17:16:...|    02XYZXYZ100172103001|\n",
      "|93f4EOW+S5XKAOXow...|    PB2169693|    SBA|           SBSTF|   2011-02-14|           NULL|          0|2024-07-24 17:16:...|    02XYZXYZ100172103501|\n",
      "|93f4EOW+S5XKAOXow...|    PB2169703|    SBA|           SBSTF|   2011-02-14|           NULL|          0|2024-07-24 17:16:...|    02XYZXYZ100172104101|\n",
      "|93f4EOW+S5XKAOXow...|    PB2169706|    SBA|           SBGUR|   2011-02-14|           NULL|          0|2024-07-24 17:16:...|    02XYZXYZ100172104401|\n",
      "|BU0AUp8z3pEPZyhn+...|    KL0256282|    SBA|           SBPPS|   2002-05-22|           NULL|          0|2024-07-24 17:16:...|     02XYZXYZ10015628201|\n",
      "|1602vWGodLstZZS68...|    KL0256453|    SBA|           SBNCS|   2003-09-12|           NULL|          0|2024-07-24 17:16:...|     02XYZXYZ10015645301|\n",
      "|1602vWGodLstZZS68...|    KL0256457|    SBA|           SBPPS|   2003-09-12|           NULL|          0|2024-07-24 17:16:...|     02XYZXYZ10015645701|\n",
      "+--------------------+-------------+-------+----------------+-------------+---------------+-----------+--------------------+------------------------+\n",
      "only showing top 20 rows\n",
      "\n"
     ]
    }
   ],
   "source": [
    "df = spark.sql(\"SELECT * FROM testedTable\")\n",
    "df.show(20)"
   ]
  },
  {
   "cell_type": "code",
   "execution_count": 12,
   "metadata": {},
   "outputs": [
    {
     "data": {
      "text/plain": [
       "29"
      ]
     },
     "execution_count": 12,
     "metadata": {},
     "output_type": "execute_result"
    }
   ],
   "source": [
    "df_count = df.count()\n",
    "df_count"
   ]
  },
  {
   "cell_type": "code",
   "execution_count": 15,
   "metadata": {},
   "outputs": [
    {
     "data": {
      "text/plain": [
       "34"
      ]
     },
     "execution_count": 15,
     "metadata": {},
     "output_type": "execute_result"
    }
   ],
   "source": [
    "df_count = df.count()\n",
    "df_count"
   ]
  },
  {
   "cell_type": "code",
   "execution_count": null,
   "metadata": {},
   "outputs": [],
   "source": []
  }
 ],
 "metadata": {
  "kernelspec": {
   "display_name": "Python 3",
   "language": "python",
   "name": "python3"
  },
  "language_info": {
   "codemirror_mode": {
    "name": "ipython",
    "version": 3
   },
   "file_extension": ".py",
   "mimetype": "text/x-python",
   "name": "python",
   "nbconvert_exporter": "python",
   "pygments_lexer": "ipython3",
   "version": "3.10.12"
  }
 },
 "nbformat": 4,
 "nbformat_minor": 2
}
