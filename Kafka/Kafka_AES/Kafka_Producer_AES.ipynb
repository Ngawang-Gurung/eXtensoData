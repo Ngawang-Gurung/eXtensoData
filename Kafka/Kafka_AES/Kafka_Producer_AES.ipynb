{
 "cells": [
  {
   "cell_type": "code",
   "execution_count": 1,
   "metadata": {},
   "outputs": [
    {
     "data": {
      "text/plain": [
       "'\\nAuthor: Ngawang Gurung\\nDate: 2024/07/24\\n'"
      ]
     },
     "execution_count": 1,
     "metadata": {},
     "output_type": "execute_result"
    }
   ],
   "source": [
    "'''\n",
    "Author: Ngawang Gurung\n",
    "Date: 2024/07/24\n",
    "'''"
   ]
  },
  {
   "cell_type": "code",
   "execution_count": 1,
   "metadata": {},
   "outputs": [],
   "source": [
    "import pandas as pd\n",
    "from datetime import datetime\n",
    "import time\n",
    "import random\n",
    "import os\n",
    "from dotenv import load_dotenv\n",
    "\n",
    "from kafka import KafkaProducer\n",
    "from pyspark.sql import SparkSession\n",
    "from pyspark.sql.functions import base64, expr\n",
    "from helper import table_df"
   ]
  },
  {
   "cell_type": "code",
   "execution_count": 2,
   "metadata": {},
   "outputs": [
    {
     "name": "stderr",
     "output_type": "stream",
     "text": [
      "Setting default log level to \"WARN\".\n",
      "To adjust logging level use sc.setLogLevel(newLevel). For SparkR, use setLogLevel(newLevel).\n",
      "24/07/24 17:06:46 WARN NativeCodeLoader: Unable to load native-hadoop library for your platform... using builtin-java classes where applicable\n",
      "24/07/24 17:06:47 WARN Utils: Service 'SparkUI' could not bind on port 4040. Attempting port 4041.\n"
     ]
    }
   ],
   "source": [
    "spark = SparkSession.builder \\\n",
    "    .appName(\"Spark\") \\\n",
    "    .getOrCreate()"
   ]
  },
  {
   "cell_type": "code",
   "execution_count": 11,
   "metadata": {},
   "outputs": [
    {
     "name": "stderr",
     "output_type": "stream",
     "text": [
      "/home/user/Projects/eXtensoData/Kafka/Kafka_AES/helper.py:31: UserWarning: pandas only supports SQLAlchemy connectable (engine/connection) or database string URI or sqlite3 DBAPI2 connection. Other DBAPI2 objects are not tested. Please consider using SQLAlchemy.\n",
      "  df = pd.read_sql(sql=query, con=con.connection)\n"
     ]
    },
    {
     "data": {
      "text/html": [
       "<div>\n",
       "<style scoped>\n",
       "    .dataframe tbody tr th:only-of-type {\n",
       "        vertical-align: middle;\n",
       "    }\n",
       "\n",
       "    .dataframe tbody tr th {\n",
       "        vertical-align: top;\n",
       "    }\n",
       "\n",
       "    .dataframe thead th {\n",
       "        text-align: right;\n",
       "    }\n",
       "</style>\n",
       "<table border=\"1\" class=\"dataframe\">\n",
       "  <thead>\n",
       "    <tr style=\"text-align: right;\">\n",
       "      <th></th>\n",
       "      <th>account_number</th>\n",
       "      <th>customer_code</th>\n",
       "      <th>product</th>\n",
       "      <th>product_category</th>\n",
       "      <th>acc_open_date</th>\n",
       "      <th>acc_closed_date</th>\n",
       "      <th>active_flag</th>\n",
       "    </tr>\n",
       "  </thead>\n",
       "  <tbody>\n",
       "    <tr>\n",
       "      <th>0</th>\n",
       "      <td>02XYZXYZ10015592101</td>\n",
       "      <td>KL0255921</td>\n",
       "      <td>SBA</td>\n",
       "      <td>SBPPS</td>\n",
       "      <td>1999-03-10</td>\n",
       "      <td>None</td>\n",
       "      <td>0</td>\n",
       "    </tr>\n",
       "    <tr>\n",
       "      <th>1</th>\n",
       "      <td>02XYZXYZ10015593701</td>\n",
       "      <td>KL0255937</td>\n",
       "      <td>SBA</td>\n",
       "      <td>SBPPS</td>\n",
       "      <td>1999-03-10</td>\n",
       "      <td>None</td>\n",
       "      <td>0</td>\n",
       "    </tr>\n",
       "    <tr>\n",
       "      <th>2</th>\n",
       "      <td>02XYZXYZ10015593801</td>\n",
       "      <td>KL0255938</td>\n",
       "      <td>SBA</td>\n",
       "      <td>SBPPS</td>\n",
       "      <td>1999-03-10</td>\n",
       "      <td>None</td>\n",
       "      <td>0</td>\n",
       "    </tr>\n",
       "    <tr>\n",
       "      <th>3</th>\n",
       "      <td>02XYZXYZ10015594801</td>\n",
       "      <td>KL0255948</td>\n",
       "      <td>SBA</td>\n",
       "      <td>SBANU</td>\n",
       "      <td>1999-03-22</td>\n",
       "      <td>None</td>\n",
       "      <td>0</td>\n",
       "    </tr>\n",
       "    <tr>\n",
       "      <th>4</th>\n",
       "      <td>02XYZXYZ10015597601</td>\n",
       "      <td>KL0255976</td>\n",
       "      <td>SBA</td>\n",
       "      <td>SBPPS</td>\n",
       "      <td>1999-04-22</td>\n",
       "      <td>None</td>\n",
       "      <td>0</td>\n",
       "    </tr>\n",
       "  </tbody>\n",
       "</table>\n",
       "</div>"
      ],
      "text/plain": [
       "        account_number customer_code product product_category acc_open_date  \\\n",
       "0  02XYZXYZ10015592101     KL0255921     SBA            SBPPS    1999-03-10   \n",
       "1  02XYZXYZ10015593701     KL0255937     SBA            SBPPS    1999-03-10   \n",
       "2  02XYZXYZ10015593801     KL0255938     SBA            SBPPS    1999-03-10   \n",
       "3  02XYZXYZ10015594801     KL0255948     SBA            SBANU    1999-03-22   \n",
       "4  02XYZXYZ10015597601     KL0255976     SBA            SBPPS    1999-04-22   \n",
       "\n",
       "  acc_closed_date  active_flag  \n",
       "0            None            0  \n",
       "1            None            0  \n",
       "2            None            0  \n",
       "3            None            0  \n",
       "4            None            0  "
      ]
     },
     "execution_count": 11,
     "metadata": {},
     "output_type": "execute_result"
    }
   ],
   "source": [
    "pandas_df = table_df('client_rw', 'fc_account_master')\n",
    "pandas_df.head()"
   ]
  },
  {
   "cell_type": "code",
   "execution_count": 17,
   "metadata": {},
   "outputs": [
    {
     "name": "stderr",
     "output_type": "stream",
     "text": [
      "/tmp/ipykernel_40783/4270938028.py:1: FutureWarning: Downcasting object dtype arrays on .fillna, .ffill, .bfill is deprecated and will change in a future version. Call result.infer_objects(copy=False) instead. To opt-in to the future behavior, set `pd.set_option('future.no_silent_downcasting', True)`\n",
      "  pandas_df.fillna(-1, inplace=True)\n"
     ]
    }
   ],
   "source": [
    "pandas_df.fillna(-1, inplace=True)"
   ]
  },
  {
   "cell_type": "code",
   "execution_count": 19,
   "metadata": {},
   "outputs": [
    {
     "name": "stderr",
     "output_type": "stream",
     "text": [
      "                                                                                \r"
     ]
    },
    {
     "name": "stdout",
     "output_type": "stream",
     "text": [
      "+--------------------+-------------+-------+----------------+-------------+---------------+-----------+\n",
      "|      account_number|customer_code|product|product_category|acc_open_date|acc_closed_date|active_flag|\n",
      "+--------------------+-------------+-------+----------------+-------------+---------------+-----------+\n",
      "| 02XYZXYZ10015592101|    KL0255921|    SBA|           SBPPS|   1999-03-10|             -1|          0|\n",
      "| 02XYZXYZ10015593701|    KL0255937|    SBA|           SBPPS|   1999-03-10|             -1|          0|\n",
      "| 02XYZXYZ10015593801|    KL0255938|    SBA|           SBPPS|   1999-03-10|             -1|          0|\n",
      "| 02XYZXYZ10015594801|    KL0255948|    SBA|           SBANU|   1999-03-22|             -1|          0|\n",
      "| 02XYZXYZ10015597601|    KL0255976|    SBA|           SBPPS|   1999-04-22|             -1|          0|\n",
      "| 02XYZXYZ10015597701|    KL0255977|    SBA|           SBPPS|   1999-04-22|             -1|          0|\n",
      "| 02XYZXYZ10015597801|    KL0255978|    SBA|           SBPPS|   1999-04-22|             -1|          0|\n",
      "| 02XYZXYZ10015598301|    KL0255983|    SBA|           SBPPS|   1999-04-22|             -1|          0|\n",
      "| 02XYZXYZ10015598401|    KL0255984|    SBA|           SBPPS|   1999-04-22|             -1|          0|\n",
      "| 02XYZXYZ10015599001|    KL0255990|    SBA|           SBPPS|   1999-05-26|             -1|          0|\n",
      "|02XYZXYZ100172100401|    PB2122003|    SBA|           SBSTF|   2010-02-16|             -1|          0|\n",
      "|02XYZXYZ100172101301|    PB2127846|    SBA|           SBSTF|   2010-04-01|             -1|          0|\n",
      "|02XYZXYZ100172102301|    PB2169679|    SBA|           SBSTF|   2011-02-14|             -1|          0|\n",
      "|02XYZXYZ100172103001|    PB2169686|    SBA|           SBSTF|   2011-02-14|             -1|          0|\n",
      "|02XYZXYZ100172103501|    PB2169693|    SBA|           SBSTF|   2011-02-14|             -1|          0|\n",
      "|02XYZXYZ100172104101|    PB2169703|    SBA|           SBSTF|   2011-02-14|             -1|          0|\n",
      "|02XYZXYZ100172104401|    PB2169706|    SBA|           SBGUR|   2011-02-14|             -1|          0|\n",
      "| 02XYZXYZ10015628201|    KL0256282|    SBA|           SBPPS|   2002-05-22|             -1|          0|\n",
      "| 02XYZXYZ10015645301|    KL0256453|    SBA|           SBNCS|   2003-09-12|             -1|          0|\n",
      "| 02XYZXYZ10015645701|    KL0256457|    SBA|           SBPPS|   2003-09-12|             -1|          0|\n",
      "+--------------------+-------------+-------+----------------+-------------+---------------+-----------+\n",
      "only showing top 20 rows\n",
      "\n"
     ]
    }
   ],
   "source": [
    "df = spark.createDataFrame(pandas_df)\n",
    "df.show()"
   ]
  },
  {
   "cell_type": "code",
   "execution_count": 20,
   "metadata": {},
   "outputs": [],
   "source": [
    "load_dotenv()\n",
    "\n",
    "SUPER_SECRET_KEY = os.getenv('SUPER_SECRET_KEY') # Super secret key (must be 16, 24, or 32 bytes long)\n",
    "df_encrypted = df.withColumn('account_number', base64(expr(f\"aes_encrypt(account_number, '{SUPER_SECRET_KEY}', 'ECB')\")))"
   ]
  },
  {
   "cell_type": "code",
   "execution_count": 21,
   "metadata": {},
   "outputs": [
    {
     "name": "stdout",
     "output_type": "stream",
     "text": [
      "+--------------------+-------------+-------+----------------+-------------+---------------+-----------+\n",
      "|      account_number|customer_code|product|product_category|acc_open_date|acc_closed_date|active_flag|\n",
      "+--------------------+-------------+-------+----------------+-------------+---------------+-----------+\n",
      "|+Y7DNNNCRLxa9tHil...|    KL0255921|    SBA|           SBPPS|   1999-03-10|             -1|          0|\n",
      "|U7RRmweke5W8oVRNv...|    KL0255937|    SBA|           SBPPS|   1999-03-10|             -1|          0|\n",
      "|U7RRmweke5W8oVRNv...|    KL0255938|    SBA|           SBPPS|   1999-03-10|             -1|          0|\n",
      "|Khed5di6hfdejAOOB...|    KL0255948|    SBA|           SBANU|   1999-03-22|             -1|          0|\n",
      "|wt0lfnWsGTalCHEtZ...|    KL0255976|    SBA|           SBPPS|   1999-04-22|             -1|          0|\n",
      "+--------------------+-------------+-------+----------------+-------------+---------------+-----------+\n",
      "only showing top 5 rows\n",
      "\n"
     ]
    }
   ],
   "source": [
    "df_encrypted.show(5)"
   ]
  },
  {
   "cell_type": "code",
   "execution_count": 22,
   "metadata": {},
   "outputs": [],
   "source": [
    "# Convert each Row to a dictionary\n",
    "df_list = [row.asDict() for row in df_encrypted.collect()]"
   ]
  },
  {
   "cell_type": "code",
   "execution_count": 23,
   "metadata": {},
   "outputs": [],
   "source": [
    "KAFKA_TOPIC = \"am\"\n",
    "KAFKA_BOOTSTRAP_SERVERS = \"localhost:9092\"\n",
    "\n",
    "producer = KafkaProducer(bootstrap_servers = KAFKA_BOOTSTRAP_SERVERS, value_serializer = lambda x: x.encode('utf-8'))"
   ]
  },
  {
   "cell_type": "code",
   "execution_count": 24,
   "metadata": {},
   "outputs": [
    {
     "name": "stdout",
     "output_type": "stream",
     "text": [
      "Kafka Producer Application Started ... \n",
      "Message Type: <class 'str'>\n",
      "Message: +Y7DNNNCRLxa9tHiluVGkYY5B2W/n3ZpLplkJINLIdM=,KL0255921,SBA,SBPPS,1999-03-10,-1,0\n",
      "Message Type: <class 'str'>\n",
      "Message: U7RRmweke5W8oVRNvaKXpZJPf6MTWIf+3pVCi/uDj3w=,KL0255937,SBA,SBPPS,1999-03-10,-1,0\n",
      "Message Type: <class 'str'>\n",
      "Message: U7RRmweke5W8oVRNvaKXpW7opsj+z4fEE98TMsDU5ZQ=,KL0255938,SBA,SBPPS,1999-03-10,-1,0\n",
      "Message Type: <class 'str'>\n",
      "Message: Khed5di6hfdejAOOBP6XBG7opsj+z4fEE98TMsDU5ZQ=,KL0255948,SBA,SBANU,1999-03-22,-1,0\n",
      "Message Type: <class 'str'>\n",
      "Message: wt0lfnWsGTalCHEtZvy671U78SwdSDGmCdZQ2GwRpAw=,KL0255976,SBA,SBPPS,1999-04-22,-1,0\n",
      "Message Type: <class 'str'>\n",
      "Message: wt0lfnWsGTalCHEtZvy675JPf6MTWIf+3pVCi/uDj3w=,KL0255977,SBA,SBPPS,1999-04-22,-1,0\n",
      "Message Type: <class 'str'>\n",
      "Message: wt0lfnWsGTalCHEtZvy6727opsj+z4fEE98TMsDU5ZQ=,KL0255978,SBA,SBPPS,1999-04-22,-1,0\n",
      "Message Type: <class 'str'>\n",
      "Message: FtDcN60NxCHnK87AgC9WyxWfZKBFMtej55gj9Qs8d94=,KL0255983,SBA,SBPPS,1999-04-22,-1,0\n",
      "Message Type: <class 'str'>\n",
      "Message: FtDcN60NxCHnK87AgC9Wy46XWn1vLmrBGKBpvKQwpOs=,KL0255984,SBA,SBPPS,1999-04-22,-1,0\n",
      "Message Type: <class 'str'>\n",
      "Message: tSvhbUmKvtWBJS3xMkGtRGXq84ofbfeMwP81FvwgyzM=,KL0255990,SBA,SBPPS,1999-05-26,-1,0\n",
      "Message Type: <class 'str'>\n",
      "Message: 93f4EOW+S5XKAOXowAVqvSMp+0JvUEX5knPXR8X+gvA=,PB2122003,SBA,SBSTF,2010-02-16,-1,0\n",
      "Message Type: <class 'str'>\n",
      "Message: 93f4EOW+S5XKAOXowAVqvaW3zKZof0nAqt6ytzmYlH4=,PB2127846,SBA,SBSTF,2010-04-01,-1,0\n",
      "Message Type: <class 'str'>\n",
      "Message: 93f4EOW+S5XKAOXowAVqvdgJssMN+kHLNpXms1cW9N4=,PB2169679,SBA,SBSTF,2011-02-14,-1,0\n",
      "Message Type: <class 'str'>\n",
      "Message: 93f4EOW+S5XKAOXowAVqvTWOnc3L4PnCpk4M1vZt1Os=,PB2169686,SBA,SBSTF,2011-02-14,-1,0\n",
      "Message Type: <class 'str'>\n",
      "Message: 93f4EOW+S5XKAOXowAVqvcPjOY1woryqdEzbk2KTsZg=,PB2169693,SBA,SBSTF,2011-02-14,-1,0\n",
      "Message Type: <class 'str'>\n",
      "Message: 93f4EOW+S5XKAOXowAVqvdpsVPN4G/uEuPQNt1rzeGM=,PB2169703,SBA,SBSTF,2011-02-14,-1,0\n",
      "Message Type: <class 'str'>\n",
      "Message: 93f4EOW+S5XKAOXowAVqvRJLG9BtLZt74CQZPdisYGw=,PB2169706,SBA,SBGUR,2011-02-14,-1,0\n",
      "Message Type: <class 'str'>\n",
      "Message: BU0AUp8z3pEPZyhn+BXesFFOXXzLpzCFD0ruSbiZk7Y=,KL0256282,SBA,SBPPS,2002-05-22,-1,0\n",
      "Message Type: <class 'str'>\n",
      "Message: 1602vWGodLstZZS68oBaxBWfZKBFMtej55gj9Qs8d94=,KL0256453,SBA,SBNCS,2003-09-12,-1,0\n",
      "Message Type: <class 'str'>\n",
      "Message: 1602vWGodLstZZS68oBaxJJPf6MTWIf+3pVCi/uDj3w=,KL0256457,SBA,SBPPS,2003-09-12,-1,0\n",
      "Message Type: <class 'str'>\n",
      "Message: NYdt0gbIROtIElWrR5NIMRWfZKBFMtej55gj9Qs8d94=,KL0256463,SBA,SBPPS,2003-09-12,-1,0\n",
      "Message Type: <class 'str'>\n",
      "Message: vhineBM6biA0WuIezqqLiZJPf6MTWIf+3pVCi/uDj3w=,KL0253397,SBA,SBANU,1991-02-13,-1,0\n",
      "Message Type: <class 'str'>\n",
      "Message: stICszBOq+Ou3Vbm+GZLfyrTDjidUT1+AGjniSpfgHM=,KL0255715,SBA,SBGUR,1997-02-04,-1,0\n",
      "Message Type: <class 'str'>\n",
      "Message: stICszBOq+Ou3Vbm+GZLf1U78SwdSDGmCdZQ2GwRpAw=,KL0255716,SBA,SBGUR,1997-02-04,-1,0\n",
      "Message Type: <class 'str'>\n",
      "Message: BYQUoQgupx9X5UsuZ4Xc/fLcy/h4Kiaej9IbTGRMYjI=,KP2511802,SBA,SBSTF,2017-12-28,-1,0\n",
      "Message Type: <class 'str'>\n",
      "Message: BYQUoQgupx9X5UsuZ4Xc/aeo6Sqet6wzqiVMOz0Zqz0=,KP2534243,SBA,SBSTF,2018-05-22,-1,0\n",
      "Message Type: <class 'str'>\n",
      "Message: 93f4EOW+S5XKAOXowAVqvSb4uyYbVUPlVJXfF1qrhck=,PB2169720,SBA,SBSTF,2011-02-14,-1,0\n",
      "Message Type: <class 'str'>\n",
      "Message: 93f4EOW+S5XKAOXowAVqvcxLVpBxM6npf3GkBE+2BUg=,PB2169737,SBA,SBSTF,2011-02-14,-1,0\n",
      "Message Type: <class 'str'>\n",
      "Message: 93f4EOW+S5XKAOXowAVqvSHvvEA3tlcq56IVKRg60xQ=,PB2169754,SBA,SBSTF,2011-02-14,-1,0\n",
      "Message Type: <class 'str'>\n",
      "Message: 93f4EOW+S5XKAOXowAVqvYDfqXAalxcXCXk189aFO8A=,PB2169755,SBA,SBSTF,2011-02-14,-1,0\n",
      "Message Type: <class 'str'>\n",
      "Message: 93f4EOW+S5XKAOXowAVqvUQBiTpn/Xup+Es8VgyfrsQ=,PB2169759,SBA,SBSTF,2011-02-14,-1,0\n",
      "Message Type: <class 'str'>\n",
      "Message: Ze8gQTGAPsmbWP/llIBzCIDayQqpxGqFZNEUsOfU7Mc=,PB2169775,SBA,SBSTF,2011-02-14,-1,0\n",
      "Message Type: <class 'str'>\n",
      "Message: Ze8gQTGAPsmbWP/llIBzCD4CWtVvcOPbf2NMJHAochM=,PB2169796,SBA,SBSTF,2011-02-14,-1,0\n",
      "Message Type: <class 'str'>\n",
      "Message: Ze8gQTGAPsmbWP/llIBzCLWtpWlTh1mOjeYoOlyxcJo=,PB2169809,SBA,SBSTF,2011-02-14,-1,0\n",
      "Message Type: <class 'str'>\n",
      "Message: Ze8gQTGAPsmbWP/llIBzCJPN175gqllN1diWCOHyKuw=,PB2169818,SBA,SBSTF,2011-02-14,-1,0\n",
      "Message Type: <class 'str'>\n",
      "Message: Ze8gQTGAPsmbWP/llIBzCNnuDisRxI/9Ax5OXwynTEs=,PB2169826,SBA,SBSTF,2011-02-14,-1,0\n",
      "Message Type: <class 'str'>\n",
      "Message: Ze8gQTGAPsmbWP/llIBzCBiWqb2BRBKRDD5WPQd9jho=,PB2211769,SBA,SBSTF,2011-12-26,-1,0\n",
      "Message Type: <class 'str'>\n",
      "Message: Ze8gQTGAPsmbWP/llIBzCMNrJd/8b6zjE/dn8WLH524=,KP2256346,SBA,SBSTF,2012-12-31,-1,0\n",
      "Message Type: <class 'str'>\n",
      "Message: qqjC6QanEZCeIWTsFrIiALWtpWlTh1mOjeYoOlyxcJo=,KP2256451,SBA,SBSTF,2012-12-31,-1,0\n",
      "Message Type: <class 'str'>\n",
      "Message: qqjC6QanEZCeIWTsFrIiANpsVPN4G/uEuPQNt1rzeGM=,KP2263925,SBA,SBSTF,2013-04-01,-1,0\n"
     ]
    }
   ],
   "source": [
    "print(\"Kafka Producer Application Started ... \")\n",
    "\n",
    "for message in df_list:\n",
    "    message_data = ','.join(str(message[column]) for column in df.columns)\n",
    "    print(\"Message Type:\", type(message_data))\n",
    "    print(\"Message:\", message_data)\n",
    "    producer.send(KAFKA_TOPIC, message_data)\n",
    "    time.sleep(1)\n",
    "\n",
    "print(\"Kafka Producer Application Completed.\")"
   ]
  },
  {
   "cell_type": "code",
   "execution_count": null,
   "metadata": {},
   "outputs": [],
   "source": []
  }
 ],
 "metadata": {
  "kernelspec": {
   "display_name": "Python 3",
   "language": "python",
   "name": "python3"
  },
  "language_info": {
   "codemirror_mode": {
    "name": "ipython",
    "version": 3
   },
   "file_extension": ".py",
   "mimetype": "text/x-python",
   "name": "python",
   "nbconvert_exporter": "python",
   "pygments_lexer": "ipython3",
   "version": "3.10.12"
  }
 },
 "nbformat": 4,
 "nbformat_minor": 2
}
