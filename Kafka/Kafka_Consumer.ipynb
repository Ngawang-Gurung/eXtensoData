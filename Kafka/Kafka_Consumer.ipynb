{
 "cells": [
  {
   "cell_type": "code",
   "execution_count": 1,
   "metadata": {},
   "outputs": [],
   "source": [
    "from pyspark.sql import SparkSession\n",
    "from pyspark.sql.functions import *\n",
    "import random, time"
   ]
  },
  {
   "cell_type": "code",
   "execution_count": 2,
   "metadata": {},
   "outputs": [],
   "source": [
    "spark = SparkSession.builder \\\n",
    "    .appName(\"Spark Streaming\") \\\n",
    "    .master(\"local[*]\") \\\n",
    "    .config(\"spark.jars.packages\", \"org.apache.spark:spark-sql-kafka-0-10_2.12:3.5.1\") \\\n",
    "    .getOrCreate()\n",
    "\n",
    "spark.sparkContext.setLogLevel(\"ERROR\")"
   ]
  },
  {
   "cell_type": "code",
   "execution_count": 3,
   "metadata": {},
   "outputs": [],
   "source": [
    "KAFKA_TOPIC = \"fc_txn_base\"\n",
    "# KAFKA_TOPIC = \"am\"\n",
    "KAFKA_BOOTSTRAP_SERVERS = \"localhost:9092\""
   ]
  },
  {
   "cell_type": "code",
   "execution_count": 4,
   "metadata": {},
   "outputs": [],
   "source": [
    "df = spark.readStream \\\n",
    "    .format(\"kafka\") \\\n",
    "    .option(\"kafka.bootstrap.servers\", KAFKA_BOOTSTRAP_SERVERS) \\\n",
    "    .option(\"subscribe\", KAFKA_TOPIC) \\\n",
    "    .option(\"startingOffsets\", \"earliest\") \\\n",
    "    .load()"
   ]
  },
  {
   "cell_type": "code",
   "execution_count": 5,
   "metadata": {},
   "outputs": [],
   "source": [
    "df1 = df.selectExpr(\"CAST(value AS STRING)\", \"timestamp\")\n",
    "schema_string = \"tran_date DATE, account_number STRING, branch STRING, \\\n",
    "                product STRING, lcy_amount DOUBLE, transaction_code STRING, \\\n",
    "                description1 STRING, dc_indicator STRING, is_salary INT\"\n",
    "\n",
    "# schema_string = \"account_number STRING, customer_code STRING, product STRING, \\\n",
    "#                 product_category STRING, acc_open_date DATETIME, acc_closed_date DATETIME, active_flag INT\"\n",
    "            \n",
    "df2 = df1.select(from_csv(col(\"value\"), schema_string).alias(\"mytable\"), \"timestamp\")\n",
    "df3 = df2.select(\"mytable.*\", \"timestamp\")\n",
    "df3.createOrReplaceTempView(\"table_view\");\n",
    "df4 = spark.sql(\"SELECT * FROM table_view\")"
   ]
  },
  {
   "cell_type": "code",
   "execution_count": 6,
   "metadata": {},
   "outputs": [
    {
     "data": {
      "text/plain": [
       "False"
      ]
     },
     "execution_count": 6,
     "metadata": {},
     "output_type": "execute_result"
    }
   ],
   "source": [
    "my_write_stream = df4.writeStream \\\n",
    "        .trigger(processingTime='5 seconds') \\\n",
    "        .outputMode(\"append\") \\\n",
    "        .option(\"truncate\", \"false\") \\\n",
    "        .format(\"memory\") \\\n",
    "        .queryName(\"testedTable\") \\\n",
    "        .start()\n",
    "my_write_stream.awaitTermination(1)"
   ]
  },
  {
   "cell_type": "code",
   "execution_count": 8,
   "metadata": {},
   "outputs": [
    {
     "name": "stdout",
     "output_type": "stream",
     "text": [
      "+----------+-------------------+------+-------+----------+----------------+--------------------+------------+---------+--------------------+\n",
      "| tran_date|     account_number|branch|product|lcy_amount|transaction_code|        description1|dc_indicator|is_salary|           timestamp|\n",
      "+----------+-------------------+------+-------+----------+----------------+--------------------+------------+---------+--------------------+\n",
      "|2020-06-09|02XYZXYZ10017529992|    15|    SBA|   14500.0|              CI|ATM WDL /00463701...|    withdraw|        0|2024-06-05 12:42:...|\n",
      "|2020-06-14|02XYZXYZ10017529992|    15|    SBA|   20000.0|              CI|ATM WDL /00463701...|    withdraw|        0|2024-06-05 12:42:...|\n",
      "|2020-06-01|02XYZXYZ10017517823|    15|    SBA|    4000.0|              CI|ATM WDL /NICAV701...|    withdraw|        0|2024-06-05 12:42:...|\n",
      "|2020-06-05|02XYZXYZ10017517823|    15|    SBA|     500.0|              CI|ATM WDL /NICAV701...|    withdraw|        0|2024-06-05 12:42:...|\n",
      "|2020-06-12|02XYZXYZ10017517823|    15|    SBA|    5000.0|              CI|ATM WDL /NICAV701...|    withdraw|        0|2024-06-05 12:42:...|\n",
      "|2020-06-02|02XYZXYZ10017519116|    15|    SBA|    5000.0|              CI|ATM WDL /02101101...|    withdraw|        0|2024-06-05 12:42:...|\n",
      "|2020-06-07|02XYZXYZ10017519121|    15|    SBA|    5010.0|              CI|MPAY Trf to 19100...|    withdraw|        0|2024-06-05 12:42:...|\n",
      "|2020-06-08|02XYZXYZ10017520752|    15|    SBA|   15000.0|              CI|POS PUR/CC230020/...|    withdraw|        0|2024-06-05 12:42:...|\n",
      "|2020-06-08|02XYZXYZ10017520752|    15|    SBA|   10000.0|              CI|POS PUR/CC230020/...|    withdraw|        0|2024-06-05 12:42:...|\n",
      "|2020-06-09|02XYZXYZ10017520752|    15|    SBA|    5000.0|              CI|          9849392999|    withdraw|        0|2024-06-05 12:42:...|\n",
      "|2020-06-04|02XYZXYZ10017555515|    15|    SBA|   20000.0|              CI|ATM WDL /00423302...|    withdraw|        0|2024-06-05 12:42:...|\n",
      "|2020-06-10|02XYZXYZ10017555612|    15|    SBA|   50000.0|              CI|MPAY MBLNNPKA;264...|    withdraw|        0|2024-06-05 12:42:...|\n",
      "|2020-06-01|02XYZXYZ10017557070|    15|    SBA|  200000.0|               O|BY INST 41369319 ...|     deposit|        0|2024-06-05 12:42:...|\n",
      "|2020-06-05|02XYZXYZ10017557090|    15|    SBA|    4502.0|              CI|KATHMANDU UNIVERSITY|     deposit|        0|2024-06-05 12:42:...|\n",
      "|2020-06-07|02XYZXYZ10017557096|    15|    SBA|      49.0|              CI|     MPAY 9843299057|    withdraw|        0|2024-06-05 12:42:...|\n",
      "|2020-06-08|02XYZXYZ10017503121|    15|    SBA|    5000.0|              CI|ATM WDL /HBHB0301...|    withdraw|        0|2024-06-05 12:42:...|\n",
      "|2020-06-03|02XYZXYZ10017557935|    15|    SBA|    3850.0|              CI|POS PUR/50001754/...|    withdraw|        0|2024-06-05 12:42:...|\n",
      "|2020-06-03|02XYZXYZ10017557935|    15|    SBA|   3315.85|              CI|POS PUR/73256012/...|    withdraw|        0|2024-06-05 12:42:...|\n",
      "|2020-06-01|02XYZXYZ10017557936|    15|    SBA|     152.0|              CI|          9841701264|    withdraw|        0|2024-06-05 12:42:...|\n",
      "|2020-06-04|02XYZXYZ10017557936|    15|    SBA|    2390.0|              CI|POS PUR/99991826/...|    withdraw|        0|2024-06-05 12:42:...|\n",
      "+----------+-------------------+------+-------+----------+----------------+--------------------+------------+---------+--------------------+\n",
      "only showing top 20 rows\n",
      "\n"
     ]
    }
   ],
   "source": [
    "df = spark.sql(\"SELECT * FROM testedTable\")\n",
    "df.show()"
   ]
  },
  {
   "cell_type": "code",
   "execution_count": 9,
   "metadata": {},
   "outputs": [
    {
     "data": {
      "text/plain": [
       "31"
      ]
     },
     "execution_count": 9,
     "metadata": {},
     "output_type": "execute_result"
    }
   ],
   "source": [
    "df_count = df.count()\n",
    "df_count"
   ]
  },
  {
   "cell_type": "code",
   "execution_count": 11,
   "metadata": {},
   "outputs": [
    {
     "data": {
      "text/plain": [
       "35"
      ]
     },
     "execution_count": 11,
     "metadata": {},
     "output_type": "execute_result"
    }
   ],
   "source": [
    "df_count = df.count()\n",
    "df_count"
   ]
  },
  {
   "cell_type": "code",
   "execution_count": null,
   "metadata": {},
   "outputs": [],
   "source": []
  }
 ],
 "metadata": {
  "kernelspec": {
   "display_name": "Python 3",
   "language": "python",
   "name": "python3"
  },
  "language_info": {
   "codemirror_mode": {
    "name": "ipython",
    "version": 3
   },
   "file_extension": ".py",
   "mimetype": "text/x-python",
   "name": "python",
   "nbconvert_exporter": "python",
   "pygments_lexer": "ipython3",
   "version": "3.12.3"
  }
 },
 "nbformat": 4,
 "nbformat_minor": 2
}
