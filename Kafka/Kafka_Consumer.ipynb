{
 "cells": [
  {
   "cell_type": "code",
   "execution_count": 1,
   "metadata": {},
   "outputs": [
    {
     "data": {
      "text/plain": [
       "'\\nAuthor: Ngawang Gurung\\nDate: 2024/07/24\\n'"
      ]
     },
     "execution_count": 1,
     "metadata": {},
     "output_type": "execute_result"
    }
   ],
   "source": [
    "'''\n",
    "Author: Ngawang Gurung\n",
    "Date: 2024/07/24\n",
    "'''"
   ]
  },
  {
   "cell_type": "code",
   "execution_count": 2,
   "metadata": {},
   "outputs": [],
   "source": [
    "from pyspark.sql import SparkSession\n",
    "from pyspark.sql.functions import *\n",
    "import random, time"
   ]
  },
  {
   "cell_type": "code",
   "execution_count": 3,
   "metadata": {},
   "outputs": [
    {
     "name": "stdout",
     "output_type": "stream",
     "text": [
      ":: loading settings :: url = jar:file:/home/user/.local/lib/python3.10/site-packages/pyspark/jars/ivy-2.5.1.jar!/org/apache/ivy/core/settings/ivysettings.xml\n"
     ]
    },
    {
     "name": "stderr",
     "output_type": "stream",
     "text": [
      "Ivy Default Cache set to: /home/user/.ivy2/cache\n",
      "The jars for the packages stored in: /home/user/.ivy2/jars\n",
      "org.apache.spark#spark-sql-kafka-0-10_2.12 added as a dependency\n",
      ":: resolving dependencies :: org.apache.spark#spark-submit-parent-63dcd820-f059-4de4-88e7-fe1ac54788ec;1.0\n",
      "\tconfs: [default]\n",
      "\tfound org.apache.spark#spark-sql-kafka-0-10_2.12;3.5.1 in central\n",
      "\tfound org.apache.spark#spark-token-provider-kafka-0-10_2.12;3.5.1 in central\n",
      "\tfound org.apache.kafka#kafka-clients;3.4.1 in central\n",
      "\tfound org.lz4#lz4-java;1.8.0 in central\n",
      "\tfound org.xerial.snappy#snappy-java;1.1.10.3 in central\n",
      "\tfound org.slf4j#slf4j-api;2.0.7 in central\n",
      "\tfound org.apache.hadoop#hadoop-client-runtime;3.3.4 in central\n",
      "\tfound org.apache.hadoop#hadoop-client-api;3.3.4 in central\n",
      "\tfound commons-logging#commons-logging;1.1.3 in central\n",
      "\tfound com.google.code.findbugs#jsr305;3.0.0 in central\n",
      "\tfound org.apache.commons#commons-pool2;2.11.1 in central\n",
      "downloading https://repo1.maven.org/maven2/org/apache/spark/spark-sql-kafka-0-10_2.12/3.5.1/spark-sql-kafka-0-10_2.12-3.5.1.jar ...\n",
      "\t[SUCCESSFUL ] org.apache.spark#spark-sql-kafka-0-10_2.12;3.5.1!spark-sql-kafka-0-10_2.12.jar (913ms)\n",
      "downloading https://repo1.maven.org/maven2/org/apache/spark/spark-token-provider-kafka-0-10_2.12/3.5.1/spark-token-provider-kafka-0-10_2.12-3.5.1.jar ...\n",
      "\t[SUCCESSFUL ] org.apache.spark#spark-token-provider-kafka-0-10_2.12;3.5.1!spark-token-provider-kafka-0-10_2.12.jar (532ms)\n",
      "downloading https://repo1.maven.org/maven2/org/apache/kafka/kafka-clients/3.4.1/kafka-clients-3.4.1.jar ...\n",
      "\t[SUCCESSFUL ] org.apache.kafka#kafka-clients;3.4.1!kafka-clients.jar (4025ms)\n",
      "downloading https://repo1.maven.org/maven2/com/google/code/findbugs/jsr305/3.0.0/jsr305-3.0.0.jar ...\n",
      "\t[SUCCESSFUL ] com.google.code.findbugs#jsr305;3.0.0!jsr305.jar (413ms)\n",
      "downloading https://repo1.maven.org/maven2/org/apache/commons/commons-pool2/2.11.1/commons-pool2-2.11.1.jar ...\n",
      "\t[SUCCESSFUL ] org.apache.commons#commons-pool2;2.11.1!commons-pool2.jar (475ms)\n",
      "downloading https://repo1.maven.org/maven2/org/apache/hadoop/hadoop-client-runtime/3.3.4/hadoop-client-runtime-3.3.4.jar ...\n",
      "\t[SUCCESSFUL ] org.apache.hadoop#hadoop-client-runtime;3.3.4!hadoop-client-runtime.jar (25559ms)\n",
      "downloading https://repo1.maven.org/maven2/org/lz4/lz4-java/1.8.0/lz4-java-1.8.0.jar ...\n",
      "\t[SUCCESSFUL ] org.lz4#lz4-java;1.8.0!lz4-java.jar (702ms)\n",
      "downloading https://repo1.maven.org/maven2/org/xerial/snappy/snappy-java/1.1.10.3/snappy-java-1.1.10.3.jar ...\n",
      "\t[SUCCESSFUL ] org.xerial.snappy#snappy-java;1.1.10.3!snappy-java.jar(bundle) (1214ms)\n",
      "downloading https://repo1.maven.org/maven2/org/slf4j/slf4j-api/2.0.7/slf4j-api-2.0.7.jar ...\n",
      "\t[SUCCESSFUL ] org.slf4j#slf4j-api;2.0.7!slf4j-api.jar (448ms)\n",
      "downloading https://repo1.maven.org/maven2/org/apache/hadoop/hadoop-client-api/3.3.4/hadoop-client-api-3.3.4.jar ...\n",
      "\t[SUCCESSFUL ] org.apache.hadoop#hadoop-client-api;3.3.4!hadoop-client-api.jar (7531ms)\n",
      "downloading https://repo1.maven.org/maven2/commons-logging/commons-logging/1.1.3/commons-logging-1.1.3.jar ...\n",
      "\t[SUCCESSFUL ] commons-logging#commons-logging;1.1.3!commons-logging.jar (450ms)\n",
      ":: resolution report :: resolve 20336ms :: artifacts dl 42274ms\n",
      "\t:: modules in use:\n",
      "\tcom.google.code.findbugs#jsr305;3.0.0 from central in [default]\n",
      "\tcommons-logging#commons-logging;1.1.3 from central in [default]\n",
      "\torg.apache.commons#commons-pool2;2.11.1 from central in [default]\n",
      "\torg.apache.hadoop#hadoop-client-api;3.3.4 from central in [default]\n",
      "\torg.apache.hadoop#hadoop-client-runtime;3.3.4 from central in [default]\n",
      "\torg.apache.kafka#kafka-clients;3.4.1 from central in [default]\n",
      "\torg.apache.spark#spark-sql-kafka-0-10_2.12;3.5.1 from central in [default]\n",
      "\torg.apache.spark#spark-token-provider-kafka-0-10_2.12;3.5.1 from central in [default]\n",
      "\torg.lz4#lz4-java;1.8.0 from central in [default]\n",
      "\torg.slf4j#slf4j-api;2.0.7 from central in [default]\n",
      "\torg.xerial.snappy#snappy-java;1.1.10.3 from central in [default]\n",
      "\t---------------------------------------------------------------------\n",
      "\t|                  |            modules            ||   artifacts   |\n",
      "\t|       conf       | number| search|dwnlded|evicted|| number|dwnlded|\n",
      "\t---------------------------------------------------------------------\n",
      "\t|      default     |   11  |   11  |   11  |   0   ||   11  |   11  |\n",
      "\t---------------------------------------------------------------------\n",
      ":: retrieving :: org.apache.spark#spark-submit-parent-63dcd820-f059-4de4-88e7-fe1ac54788ec\n",
      "\tconfs: [default]\n",
      "\t11 artifacts copied, 0 already retrieved (56767kB/37ms)\n",
      "24/07/24 17:00:35 WARN NativeCodeLoader: Unable to load native-hadoop library for your platform... using builtin-java classes where applicable\n",
      "Setting default log level to \"WARN\".\n",
      "To adjust logging level use sc.setLogLevel(newLevel). For SparkR, use setLogLevel(newLevel).\n"
     ]
    }
   ],
   "source": [
    "spark = SparkSession.builder \\\n",
    "    .appName(\"Spark Streaming\") \\\n",
    "    .master(\"local[*]\") \\\n",
    "    .config(\"spark.jars.packages\", \"org.apache.spark:spark-sql-kafka-0-10_2.12:3.5.1\") \\\n",
    "    .getOrCreate()\n",
    "\n",
    "spark.sparkContext.setLogLevel(\"ERROR\")"
   ]
  },
  {
   "cell_type": "code",
   "execution_count": 4,
   "metadata": {},
   "outputs": [],
   "source": [
    "KAFKA_TOPIC = \"fc_txn_base\"\n",
    "# KAFKA_TOPIC = \"am\"\n",
    "KAFKA_BOOTSTRAP_SERVERS = \"localhost:9092\""
   ]
  },
  {
   "cell_type": "code",
   "execution_count": 5,
   "metadata": {},
   "outputs": [],
   "source": [
    "df = spark.readStream \\\n",
    "    .format(\"kafka\") \\\n",
    "    .option(\"kafka.bootstrap.servers\", KAFKA_BOOTSTRAP_SERVERS) \\\n",
    "    .option(\"subscribe\", KAFKA_TOPIC) \\\n",
    "    .option(\"startingOffsets\", \"earliest\") \\\n",
    "    .load()"
   ]
  },
  {
   "cell_type": "code",
   "execution_count": 6,
   "metadata": {},
   "outputs": [],
   "source": [
    "df1 = df.selectExpr(\"CAST(value AS STRING)\", \"timestamp\")\n",
    "schema_string = \"tran_date DATE, account_number STRING, branch STRING, \\\n",
    "                product STRING, lcy_amount DOUBLE, transaction_code STRING, \\\n",
    "                description1 STRING, dc_indicator STRING, is_salary INT\"\n",
    "\n",
    "# schema_string = \"account_number STRING, customer_code STRING, product STRING, \\\n",
    "#                 product_category STRING, acc_open_date DATETIME, acc_closed_date DATETIME, active_flag INT\"\n",
    "            \n",
    "df2 = df1.select(from_csv(col(\"value\"), schema_string).alias(\"mytable\"), \"timestamp\")\n",
    "df3 = df2.select(\"mytable.*\", \"timestamp\")\n",
    "df3.createOrReplaceTempView(\"table_view\");\n",
    "df4 = spark.sql(\"SELECT * FROM table_view\")"
   ]
  },
  {
   "cell_type": "code",
   "execution_count": 7,
   "metadata": {},
   "outputs": [
    {
     "data": {
      "text/plain": [
       "False"
      ]
     },
     "execution_count": 7,
     "metadata": {},
     "output_type": "execute_result"
    }
   ],
   "source": [
    "my_write_stream = df4.writeStream \\\n",
    "        .trigger(processingTime='5 seconds') \\\n",
    "        .outputMode(\"append\") \\\n",
    "        .option(\"truncate\", \"false\") \\\n",
    "        .format(\"memory\") \\\n",
    "        .queryName(\"testedTable\") \\\n",
    "        .start()\n",
    "my_write_stream.awaitTermination(1)"
   ]
  },
  {
   "cell_type": "code",
   "execution_count": 9,
   "metadata": {},
   "outputs": [
    {
     "name": "stdout",
     "output_type": "stream",
     "text": [
      "+----------+-------------------+------+-------+----------+----------------+--------------------+------------+---------+--------------------+\n",
      "| tran_date|     account_number|branch|product|lcy_amount|transaction_code|        description1|dc_indicator|is_salary|           timestamp|\n",
      "+----------+-------------------+------+-------+----------+----------------+--------------------+------------+---------+--------------------+\n",
      "|2020-06-09|02XYZXYZ10017529992|    15|    SBA|   14500.0|              CI|ATM WDL /00463701...|    withdraw|        0|2024-07-24 16:59:...|\n",
      "|2020-06-14|02XYZXYZ10017529992|    15|    SBA|   20000.0|              CI|ATM WDL /00463701...|    withdraw|        0|2024-07-24 16:59:...|\n",
      "|2020-06-01|02XYZXYZ10017517823|    15|    SBA|    4000.0|              CI|ATM WDL /NICAV701...|    withdraw|        0|2024-07-24 16:59:...|\n",
      "|2020-06-05|02XYZXYZ10017517823|    15|    SBA|     500.0|              CI|ATM WDL /NICAV701...|    withdraw|        0|2024-07-24 16:59:...|\n",
      "|2020-06-12|02XYZXYZ10017517823|    15|    SBA|    5000.0|              CI|ATM WDL /NICAV701...|    withdraw|        0|2024-07-24 16:59:...|\n",
      "|2020-06-02|02XYZXYZ10017519116|    15|    SBA|    5000.0|              CI|ATM WDL /02101101...|    withdraw|        0|2024-07-24 16:59:...|\n",
      "|2020-06-07|02XYZXYZ10017519121|    15|    SBA|    5010.0|              CI|MPAY Trf to 19100...|    withdraw|        0|2024-07-24 16:59:...|\n",
      "|2020-06-08|02XYZXYZ10017520752|    15|    SBA|   15000.0|              CI|POS PUR/CC230020/...|    withdraw|        0|2024-07-24 16:59:...|\n",
      "|2020-06-08|02XYZXYZ10017520752|    15|    SBA|   10000.0|              CI|POS PUR/CC230020/...|    withdraw|        0|2024-07-24 16:59:...|\n",
      "|2020-06-09|02XYZXYZ10017520752|    15|    SBA|    5000.0|              CI|          9849392999|    withdraw|        0|2024-07-24 16:59:...|\n",
      "|2020-06-04|02XYZXYZ10017555515|    15|    SBA|   20000.0|              CI|ATM WDL /00423302...|    withdraw|        0|2024-07-24 16:59:...|\n",
      "|2020-06-10|02XYZXYZ10017555612|    15|    SBA|   50000.0|              CI|MPAY MBLNNPKA;264...|    withdraw|        0|2024-07-24 16:59:...|\n",
      "|2020-06-01|02XYZXYZ10017557070|    15|    SBA|  200000.0|               O|BY INST 41369319 ...|     deposit|        0|2024-07-24 16:59:...|\n",
      "|2020-06-05|02XYZXYZ10017557090|    15|    SBA|    4502.0|              CI|KATHMANDU UNIVERSITY|     deposit|        0|2024-07-24 16:59:...|\n",
      "|2020-06-07|02XYZXYZ10017557096|    15|    SBA|      49.0|              CI|     MPAY 9843299057|    withdraw|        0|2024-07-24 16:59:...|\n",
      "|2020-06-08|02XYZXYZ10017503121|    15|    SBA|    5000.0|              CI|ATM WDL /HBHB0301...|    withdraw|        0|2024-07-24 16:59:...|\n",
      "|2020-06-03|02XYZXYZ10017557935|    15|    SBA|    3850.0|              CI|POS PUR/50001754/...|    withdraw|        0|2024-07-24 16:59:...|\n",
      "|2020-06-03|02XYZXYZ10017557935|    15|    SBA|   3315.85|              CI|POS PUR/73256012/...|    withdraw|        0|2024-07-24 16:59:...|\n",
      "|2020-06-01|02XYZXYZ10017557936|    15|    SBA|     152.0|              CI|          9841701264|    withdraw|        0|2024-07-24 16:59:...|\n",
      "|2020-06-04|02XYZXYZ10017557936|    15|    SBA|    2390.0|              CI|POS PUR/99991826/...|    withdraw|        0|2024-07-24 16:59:...|\n",
      "+----------+-------------------+------+-------+----------+----------------+--------------------+------------+---------+--------------------+\n",
      "only showing top 20 rows\n",
      "\n"
     ]
    }
   ],
   "source": [
    "df = spark.sql(\"SELECT * FROM testedTable\")\n",
    "df.show()"
   ]
  },
  {
   "cell_type": "code",
   "execution_count": 10,
   "metadata": {},
   "outputs": [
    {
     "data": {
      "text/plain": [
       "129"
      ]
     },
     "execution_count": 10,
     "metadata": {},
     "output_type": "execute_result"
    }
   ],
   "source": [
    "df_count = df.count()\n",
    "df_count"
   ]
  },
  {
   "cell_type": "code",
   "execution_count": 12,
   "metadata": {},
   "outputs": [
    {
     "data": {
      "text/plain": [
       "133"
      ]
     },
     "execution_count": 12,
     "metadata": {},
     "output_type": "execute_result"
    }
   ],
   "source": [
    "df_count = df.count()\n",
    "df_count"
   ]
  },
  {
   "cell_type": "code",
   "execution_count": null,
   "metadata": {},
   "outputs": [],
   "source": []
  },
  {
   "cell_type": "code",
   "execution_count": null,
   "metadata": {},
   "outputs": [],
   "source": []
  }
 ],
 "metadata": {
  "kernelspec": {
   "display_name": "Python 3",
   "language": "python",
   "name": "python3"
  },
  "language_info": {
   "codemirror_mode": {
    "name": "ipython",
    "version": 3
   },
   "file_extension": ".py",
   "mimetype": "text/x-python",
   "name": "python",
   "nbconvert_exporter": "python",
   "pygments_lexer": "ipython3",
   "version": "3.10.12"
  }
 },
 "nbformat": 4,
 "nbformat_minor": 2
}
