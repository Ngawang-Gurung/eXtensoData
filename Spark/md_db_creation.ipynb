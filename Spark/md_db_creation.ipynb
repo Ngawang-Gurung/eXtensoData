{
 "cells": [
  {
   "cell_type": "code",
   "execution_count": 1,
   "metadata": {},
   "outputs": [],
   "source": [
    "from pyspark.sql import SparkSession\n",
    "import pyspark.sql.functions as F\n",
    "from datetime import datetime\n",
    "\n",
    "from utils.mysql_spark_connection import table_df, spark"
   ]
  },
  {
   "cell_type": "code",
   "execution_count": 2,
   "metadata": {},
   "outputs": [],
   "source": [
    "spark = SparkSession.builder.appName(\"master db creation\").getOrCreate()"
   ]
  },
  {
   "cell_type": "code",
   "execution_count": 3,
   "metadata": {},
   "outputs": [],
   "source": [
    "rw_account_master = table_df(schema_name='client_rw', table_name='rw_account_master')\n",
    "md_account_master = table_df(schema_name='client_rw', table_name='md_account_master')\n",
    "md_account_master_archive = table_df(schema_name='client_rw', table_name='md_account_master_archive')"
   ]
  },
  {
   "cell_type": "code",
   "execution_count": 4,
   "metadata": {},
   "outputs": [
    {
     "name": "stdout",
     "output_type": "stream",
     "text": [
      "+--------------+-------------+-------------+---------------+-------+\n",
      "|account_number|mobile_number|acc_open_date|acc_closed_date|address|\n",
      "+--------------+-------------+-------------+---------------+-------+\n",
      "|        123ABC|         9840|   2024-01-01|     2024-12-31|      X|\n",
      "|        123PQR|         9851|   2024-01-01|     2024-12-31|      Y|\n",
      "|        123XYZ|         9842|   2024-01-01|     2024-12-31|      Z|\n",
      "+--------------+-------------+-------------+---------------+-------+\n",
      "\n"
     ]
    }
   ],
   "source": [
    "rw_account_master.show()"
   ]
  },
  {
   "cell_type": "code",
   "execution_count": 5,
   "metadata": {},
   "outputs": [
    {
     "name": "stdout",
     "output_type": "stream",
     "text": [
      "+--------------+-------------+-------------+---------------+-------+-------------+\n",
      "|account_number|mobile_number|acc_open_date|acc_closed_date|address|modified_date|\n",
      "+--------------+-------------+-------------+---------------+-------+-------------+\n",
      "|        123ABC|         9840|   2024-01-01|     2024-12-31|      X|         NULL|\n",
      "|        123PQR|         9841|   2024-01-01|     2024-12-31|      Y|         NULL|\n",
      "+--------------+-------------+-------------+---------------+-------+-------------+\n",
      "\n"
     ]
    }
   ],
   "source": [
    "md_account_master.show()"
   ]
  },
  {
   "cell_type": "code",
   "execution_count": 6,
   "metadata": {},
   "outputs": [
    {
     "name": "stdout",
     "output_type": "stream",
     "text": [
      "+--------------+-------------+-------------+---------------+-------+------------+\n",
      "|account_number|mobile_number|acc_open_date|acc_closed_date|address|created_date|\n",
      "+--------------+-------------+-------------+---------------+-------+------------+\n",
      "+--------------+-------------+-------------+---------------+-------+------------+\n",
      "\n"
     ]
    }
   ],
   "source": [
    "md_account_master_archive.show()"
   ]
  },
  {
   "cell_type": "markdown",
   "metadata": {},
   "source": [
    "### Step 1: Create md_account_master_archive "
   ]
  },
  {
   "cell_type": "code",
   "execution_count": 7,
   "metadata": {},
   "outputs": [
    {
     "name": "stdout",
     "output_type": "stream",
     "text": [
      "+--------------+-------------+-------------+---------------+-------+--------------------+\n",
      "|account_number|mobile_number|acc_open_date|acc_closed_date|address|        created_date|\n",
      "+--------------+-------------+-------------+---------------+-------+--------------------+\n",
      "|        123PQR|         9841|   2024-01-01|     2024-12-31|      Y|2024-07-14 13:23:...|\n",
      "|        123ABC|         9840|   2024-01-01|     2024-12-31|      X|2024-07-14 13:23:...|\n",
      "+--------------+-------------+-------------+---------------+-------+--------------------+\n",
      "\n"
     ]
    }
   ],
   "source": [
    "part_md_account_master_archive = md_account_master.drop('modified_date').withColumn('created_date', F.lit(datetime.now()))\n",
    "\n",
    "md_account_master_archive = md_account_master_archive.union(part_md_account_master_archive). \\\n",
    "dropDuplicates(subset= [col for col in md_account_master_archive.columns if col != 'created_date'])\n",
    "md_account_master_archive.show()"
   ]
  },
  {
   "cell_type": "markdown",
   "metadata": {},
   "source": [
    "### Step 2: Find out New and Changed Records in rw_account_master compared to md_account_master"
   ]
  },
  {
   "cell_type": "code",
   "execution_count": 8,
   "metadata": {},
   "outputs": [],
   "source": [
    "common_columns = [col for col in rw_account_master.columns if col in md_account_master.columns]\n",
    "\n",
    "changed_new = rw_account_master.join(md_account_master, on=common_columns, how='left_anti')\n",
    "changed_new = changed_new.withColumn('modified_date', F.lit(datetime.now()))"
   ]
  },
  {
   "cell_type": "code",
   "execution_count": 9,
   "metadata": {},
   "outputs": [
    {
     "name": "stdout",
     "output_type": "stream",
     "text": [
      "+--------------+-------------+-------------+---------------+-------+--------------------+\n",
      "|account_number|mobile_number|acc_open_date|acc_closed_date|address|       modified_date|\n",
      "+--------------+-------------+-------------+---------------+-------+--------------------+\n",
      "|        123XYZ|         9842|   2024-01-01|     2024-12-31|      Z|2024-07-14 13:23:...|\n",
      "|        123PQR|         9851|   2024-01-01|     2024-12-31|      Y|2024-07-14 13:23:...|\n",
      "+--------------+-------------+-------------+---------------+-------+--------------------+\n",
      "\n"
     ]
    }
   ],
   "source": [
    "changed_new.show()"
   ]
  },
  {
   "cell_type": "markdown",
   "metadata": {},
   "source": [
    "### Step 3: Find out Unchanged Records in md_account_master"
   ]
  },
  {
   "cell_type": "code",
   "execution_count": 10,
   "metadata": {},
   "outputs": [
    {
     "name": "stdout",
     "output_type": "stream",
     "text": [
      "+--------------+-------------+-------------+---------------+-------+-------------+\n",
      "|account_number|mobile_number|acc_open_date|acc_closed_date|address|modified_date|\n",
      "+--------------+-------------+-------------+---------------+-------+-------------+\n",
      "|        123ABC|         9840|   2024-01-01|     2024-12-31|      X|         NULL|\n",
      "+--------------+-------------+-------------+---------------+-------+-------------+\n",
      "\n"
     ]
    }
   ],
   "source": [
    "unchanged = rw_account_master.join(md_account_master, on=common_columns, how='inner')\n",
    "\n",
    "# def unique_values(df, col):\n",
    "#     return [row[col] for row in df.select(col).distinct().collect()]\n",
    "\n",
    "# distinct_values = unique_values(changed_new, 'account_number')\n",
    "# unchanged = md_account_master.filter(~F.col(\"account_number\").isin(distinct_values))\n",
    "unchanged.show()"
   ]
  },
  {
   "cell_type": "markdown",
   "metadata": {},
   "source": [
    "### Step 4: Create/update md_account_master by combining unchanged + (changed + new) records"
   ]
  },
  {
   "cell_type": "code",
   "execution_count": 11,
   "metadata": {},
   "outputs": [],
   "source": [
    "md_account_master = unchanged.union(changed_new)"
   ]
  },
  {
   "cell_type": "code",
   "execution_count": 12,
   "metadata": {},
   "outputs": [
    {
     "name": "stdout",
     "output_type": "stream",
     "text": [
      "+--------------+-------------+-------------+---------------+-------+--------------------+\n",
      "|account_number|mobile_number|acc_open_date|acc_closed_date|address|       modified_date|\n",
      "+--------------+-------------+-------------+---------------+-------+--------------------+\n",
      "|        123ABC|         9840|   2024-01-01|     2024-12-31|      X|                NULL|\n",
      "|        123XYZ|         9842|   2024-01-01|     2024-12-31|      Z|2024-07-14 13:23:...|\n",
      "|        123PQR|         9851|   2024-01-01|     2024-12-31|      Y|2024-07-14 13:23:...|\n",
      "+--------------+-------------+-------------+---------------+-------+--------------------+\n",
      "\n"
     ]
    }
   ],
   "source": [
    "md_account_master.show()"
   ]
  },
  {
   "cell_type": "markdown",
   "metadata": {},
   "source": [
    "### Step 5: Update md_account_master_archive "
   ]
  },
  {
   "cell_type": "code",
   "execution_count": 13,
   "metadata": {},
   "outputs": [
    {
     "name": "stdout",
     "output_type": "stream",
     "text": [
      "+--------------+-------------+-------------+---------------+-------+--------------------+\n",
      "|account_number|mobile_number|acc_open_date|acc_closed_date|address|        created_date|\n",
      "+--------------+-------------+-------------+---------------+-------+--------------------+\n",
      "|        123PQR|         9841|   2024-01-01|     2024-12-31|      Y|2024-07-14 13:23:...|\n",
      "|        123ABC|         9840|   2024-01-01|     2024-12-31|      X|2024-07-14 13:23:...|\n",
      "|        123XYZ|         9842|   2024-01-01|     2024-12-31|      Z|2024-07-14 13:23:...|\n",
      "|        123PQR|         9851|   2024-01-01|     2024-12-31|      Y|2024-07-14 13:23:...|\n",
      "+--------------+-------------+-------------+---------------+-------+--------------------+\n",
      "\n"
     ]
    }
   ],
   "source": [
    "part_md_account_master_archive = md_account_master.drop('modified_date').withColumn('created_date', F.lit(datetime.now()))\n",
    "\n",
    "md_account_master_archive = md_account_master_archive.union(part_md_account_master_archive). \\\n",
    "dropDuplicates(subset= [col for col in md_account_master_archive.columns if col != 'created_date'])\n",
    "md_account_master_archive.show()"
   ]
  },
  {
   "cell_type": "markdown",
   "metadata": {},
   "source": [
    "### Playground"
   ]
  },
  {
   "cell_type": "code",
   "execution_count": null,
   "metadata": {},
   "outputs": [],
   "source": []
  }
 ],
 "metadata": {
  "kernelspec": {
   "display_name": "Python 3",
   "language": "python",
   "name": "python3"
  },
  "language_info": {
   "codemirror_mode": {
    "name": "ipython",
    "version": 3
   },
   "file_extension": ".py",
   "mimetype": "text/x-python",
   "name": "python",
   "nbconvert_exporter": "python",
   "pygments_lexer": "ipython3",
   "version": "3.11.8"
  }
 },
 "nbformat": 4,
 "nbformat_minor": 2
}
