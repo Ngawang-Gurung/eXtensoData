{
 "cells": [
  {
   "cell_type": "code",
   "execution_count": 2,
   "metadata": {},
   "outputs": [],
   "source": [
    "from pyspark.sql import SparkSession\n",
    "from pyspark.sql import Window\n",
    "from pyspark.sql.functions import *\n",
    "from pyspark.sql.types import *"
   ]
  },
  {
   "cell_type": "code",
   "execution_count": 3,
   "metadata": {},
   "outputs": [],
   "source": [
    "spark = SparkSession.builder.appName(\"Cummulative Sum\").config(\"spark.jars.packages\", \"com.crealytics:spark-excel_2.12:0.13.5\").getOrCreate()\n",
    "\n",
    "data = spark.read.format(\"com.crealytics.spark.excel\").option(\"header\", \"true\").option(\"inferSchema\", \"true\").load(\"./dataset/cumsum.xlsx\")"
   ]
  },
  {
   "cell_type": "code",
   "execution_count": 7,
   "metadata": {},
   "outputs": [
    {
     "name": "stdout",
     "output_type": "stream",
     "text": [
      "root\n",
      " |-- month_bs_id: double (nullable = true)\n",
      " |-- account_id: double (nullable = true)\n",
      " |-- txn_amt: double (nullable = true)\n",
      " |-- txn_cnt: double (nullable = true)\n",
      "\n"
     ]
    }
   ],
   "source": [
    "data.printSchema()"
   ]
  },
  {
   "cell_type": "code",
   "execution_count": 16,
   "metadata": {},
   "outputs": [
    {
     "name": "stdout",
     "output_type": "stream",
     "text": [
      "+----------+-----------+-------------+-------------+\n",
      "|account_id|month_bs_id|total_txn_amt|total_txn_cnt|\n",
      "+----------+-----------+-------------+-------------+\n",
      "|      15.0|     9811.0|       3000.0|          6.0|\n",
      "|      15.0|     9812.0|       2000.0|          4.0|\n",
      "|      15.0|     9813.0|        500.0|          1.0|\n",
      "|      15.0|     9814.0|        500.0|          1.0|\n",
      "|      44.0|     9811.0|       8000.0|          8.0|\n",
      "|      44.0|     9812.0|       1000.0|          1.0|\n",
      "|      44.0|     9813.0|       1000.0|          1.0|\n",
      "|      44.0|     9814.0|       1000.0|          1.0|\n",
      "|      44.0|     9815.0|       1000.0|          1.0|\n",
      "|     325.0|     9811.0|     192000.0|         16.0|\n",
      "|     325.0|     9812.0|       2000.0|          1.0|\n",
      "|     325.0|     9813.0|      42000.0|          5.0|\n",
      "|     325.0|     9814.0|       2000.0|          1.0|\n",
      "|     325.0|     9815.0|       2000.0|          1.0|\n",
      "|     335.0|     9811.0|     240000.0|          8.0|\n",
      "|     335.0|     9812.0|      30000.0|          1.0|\n",
      "|     335.0|     9813.0|      30000.0|          1.0|\n",
      "|     335.0|     9814.0|      30000.0|          1.0|\n",
      "|     335.0|     9815.0|      30000.0|          1.0|\n",
      "|     563.0|     9811.0|      30000.0|          6.0|\n",
      "+----------+-----------+-------------+-------------+\n",
      "only showing top 20 rows\n",
      "\n"
     ]
    }
   ],
   "source": [
    "df = data.groupBy('account_id', 'month_bs_id').agg(sum('txn_amt').alias('total_txn_amt'), sum('txn_cnt').alias('total_txn_cnt')).orderBy(asc('account_id'), asc('month_bs_id'))\n",
    "\n",
    "df.show()"
   ]
  },
  {
   "cell_type": "code",
   "execution_count": 19,
   "metadata": {},
   "outputs": [
    {
     "name": "stdout",
     "output_type": "stream",
     "text": [
      "+----------+-----------+-------------+-------------+----------+----------+\n",
      "|account_id|month_bs_id|total_txn_amt|total_txn_cnt|cumsum_amt|cumsum_cnt|\n",
      "+----------+-----------+-------------+-------------+----------+----------+\n",
      "|      15.0|     9811.0|       3000.0|          6.0|    3000.0|       6.0|\n",
      "|      15.0|     9812.0|       2000.0|          4.0|    5000.0|      10.0|\n",
      "|      15.0|     9813.0|        500.0|          1.0|    5500.0|      11.0|\n",
      "|      15.0|     9814.0|        500.0|          1.0|    6000.0|      12.0|\n",
      "|      44.0|     9811.0|       8000.0|          8.0|    8000.0|       8.0|\n",
      "|      44.0|     9812.0|       1000.0|          1.0|    9000.0|       9.0|\n",
      "|      44.0|     9813.0|       1000.0|          1.0|   10000.0|      10.0|\n",
      "|      44.0|     9814.0|       1000.0|          1.0|   11000.0|      11.0|\n",
      "|      44.0|     9815.0|       1000.0|          1.0|   12000.0|      12.0|\n",
      "|     325.0|     9811.0|     192000.0|         16.0|  192000.0|      16.0|\n",
      "|     325.0|     9812.0|       2000.0|          1.0|  194000.0|      17.0|\n",
      "|     325.0|     9813.0|      42000.0|          5.0|  236000.0|      22.0|\n",
      "|     325.0|     9814.0|       2000.0|          1.0|  238000.0|      23.0|\n",
      "|     325.0|     9815.0|       2000.0|          1.0|  240000.0|      24.0|\n",
      "|     335.0|     9811.0|     240000.0|          8.0|  240000.0|       8.0|\n",
      "|     335.0|     9812.0|      30000.0|          1.0|  270000.0|       9.0|\n",
      "|     335.0|     9813.0|      30000.0|          1.0|  300000.0|      10.0|\n",
      "|     335.0|     9814.0|      30000.0|          1.0|  330000.0|      11.0|\n",
      "|     335.0|     9815.0|      30000.0|          1.0|  360000.0|      12.0|\n",
      "|     563.0|     9811.0|      30000.0|          6.0|   30000.0|       6.0|\n",
      "+----------+-----------+-------------+-------------+----------+----------+\n",
      "only showing top 20 rows\n",
      "\n"
     ]
    }
   ],
   "source": [
    "window_spec = Window.partitionBy(\"account_id\").orderBy(\"month_bs_id\")\n",
    "\n",
    "df = df.withColumn(\"cumsum_amt\", sum(\"total_txn_amt\").over(window_spec))\n",
    "df = df.withColumn(\"cumsum_cnt\", sum(\"total_txn_cnt\").over(window_spec))\n",
    "\n",
    "df.show()"
   ]
  },
  {
   "cell_type": "code",
   "execution_count": 4,
   "metadata": {},
   "outputs": [],
   "source": [
    "from pyspark.sql import SparkSession\n",
    "\n",
    "def df_table(df, schema_name, table_name):\n",
    "    '''\n",
    "    Load DataFrame to MySQL table\n",
    "    '''\n",
    "    url = f\"jdbc:mysql://localhost/{schema_name}\"\n",
    "    properties = {\n",
    "        \"user\": \"root\",\n",
    "        \"password\": \"mysql@123\",\n",
    "        \"driver\": \"com.mysql.cj.jdbc.Driver\"\n",
    "    }\n",
    "    \n",
    "    df.write.jdbc(url=url, table=table_name, mode='overwrite', properties=properties)\n"
   ]
  },
  {
   "cell_type": "code",
   "execution_count": 5,
   "metadata": {},
   "outputs": [],
   "source": [
    "df_table(data, \"mydb\", \"cumsum\")"
   ]
  },
  {
   "cell_type": "code",
   "execution_count": null,
   "metadata": {},
   "outputs": [],
   "source": []
  }
 ],
 "metadata": {
  "kernelspec": {
   "display_name": "Python 3",
   "language": "python",
   "name": "python3"
  },
  "language_info": {
   "codemirror_mode": {
    "name": "ipython",
    "version": 3
   },
   "file_extension": ".py",
   "mimetype": "text/x-python",
   "name": "python",
   "nbconvert_exporter": "python",
   "pygments_lexer": "ipython3",
   "version": "3.11.8"
  }
 },
 "nbformat": 4,
 "nbformat_minor": 2
}
