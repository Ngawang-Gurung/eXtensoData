{
 "cells": [
  {
   "cell_type": "code",
   "execution_count": 1,
   "metadata": {},
   "outputs": [],
   "source": [
    "from pyspark.sql import SparkSession\n",
    "\n",
    "from pyspark.sql.functions import *\n",
    "\n",
    "spark = SparkSession.builder.appName(\"customer_profile\").getOrCreate()"
   ]
  },
  {
   "cell_type": "markdown",
   "metadata": {},
   "source": [
    "### MySQL and Spark Connection"
   ]
  },
  {
   "cell_type": "code",
   "execution_count": 2,
   "metadata": {},
   "outputs": [],
   "source": [
    "import os\n",
    "from dotenv import load_dotenv\n",
    "\n",
    "load_dotenv()\n",
    "\n",
    "DB_USERNAME = os.getenv('DB_USERNAME')\n",
    "DB_PASSWORD = os.getenv('DB_PASSWORD')\n",
    "DB_HOST = os.getenv('DB_HOST')\n",
    "DB_PORT = os.getenv('DB_PORT')\n",
    "\n",
    "def table_df(schema_name, table_name):\n",
    "    url = f\"jdbc:mysql://{DB_HOST}:{DB_PORT}/{schema_name}\"\n",
    "    properties = {\n",
    "        \"user\": DB_USERNAME,\n",
    "        \"password\": DB_PASSWORD,\n",
    "        \"driver\": \"com.mysql.cj.jdbc.Driver\"\n",
    "    }\n",
    "    df = spark.read.jdbc(url=url, table=table_name, properties=properties)\n",
    "    return df"
   ]
  },
  {
   "cell_type": "code",
   "execution_count": 3,
   "metadata": {},
   "outputs": [],
   "source": [
    "rw_transaction_data = table_df('customer', 'rw_transaction_data')\n",
    "product_category_map = table_df('customer', 'product_category_map')"
   ]
  },
  {
   "cell_type": "code",
   "execution_count": 4,
   "metadata": {},
   "outputs": [
    {
     "name": "stdout",
     "output_type": "stream",
     "text": [
      "+---------+------------------+---------------------+------------+------+------+---------+----------+---------------+----------------+-------------------+------------+----------------+--------------+--------------------+--------+\n",
      "|   txn_id|last_modified_date|last_modified_date_bs|created_date|amount|status|module_id|product_id|product_type_id|payer_account_id|receiver_account_id|reward_point|cash_back_amount|revenue_amount|transactor_module_id|    time|\n",
      "+---------+------------------+---------------------+------------+------+------+---------+----------+---------------+----------------+-------------------+------------+----------------+--------------+--------------------+--------+\n",
      "|660612529|        2023-03-29|           2079-12-15|  2022-11-23|  50.0|     1|        1|        77|             29|             531|                  2|         0.0|             0.0|           0.0|                   4|14:07:40|\n",
      "|666435422|        2022-12-01|           2079-08-15|  2022-12-01| 750.0|     1|        1|        76|             29|             531|                 81|         0.0|             0.0|         33.75|                   4|00:03:41|\n",
      "|666436001|        2022-12-01|           2079-08-15|  2022-12-01|  50.0|     1|        1|        77|             29|             531|                  2|         0.0|            1.38|           0.0|                   4|00:06:20|\n",
      "|666436068|        2022-12-01|           2079-08-15|  2022-12-01|  50.0|     1|        1|        77|             29|             531|                647|         0.0|            1.38|           0.0|                   4|00:06:32|\n",
      "|666437220|        2022-12-01|           2079-08-15|  2022-12-01| 100.0|     1|        1|        30|             29|             531|                907|         0.0|             3.9|           0.0|                   4|00:12:51|\n",
      "+---------+------------------+---------------------+------------+------+------+---------+----------+---------------+----------------+-------------------+------------+----------------+--------------+--------------------+--------+\n",
      "only showing top 5 rows\n",
      "\n"
     ]
    }
   ],
   "source": [
    "rw_transaction_data.show(5)"
   ]
  },
  {
   "cell_type": "code",
   "execution_count": 5,
   "metadata": {},
   "outputs": [
    {
     "data": {
      "text/plain": [
       "193367"
      ]
     },
     "execution_count": 5,
     "metadata": {},
     "output_type": "execute_result"
    }
   ],
   "source": [
    "rw_transaction_data.count()"
   ]
  },
  {
   "cell_type": "code",
   "execution_count": 6,
   "metadata": {},
   "outputs": [
    {
     "name": "stdout",
     "output_type": "stream",
     "text": [
      "+---------+----------+---------------+--------------------+-------------------+-----------+\n",
      "|module_id|product_id|product_type_id|        product_name|product_category_id|   txn_flow|\n",
      "+---------+----------+---------------+--------------------+-------------------+-----------+\n",
      "|        1|       670|             11|Siddhartha Sishu ...|                 33|Value Chain|\n",
      "|        2|      2545|              3|Multipurpose Fina...|               NULL|    OutFlow|\n",
      "|        2|      1444|              6|Century Corporate...|               NULL|    OutFlow|\n",
      "|        2|      1008|              7|Srijana Corporate...|               NULL|    OutFlow|\n",
      "|        2|       885|             10| Pokhara_Convergence|               NULL|    OutFlow|\n",
      "+---------+----------+---------------+--------------------+-------------------+-----------+\n",
      "only showing top 5 rows\n",
      "\n"
     ]
    }
   ],
   "source": [
    "product_category_map.show(5)"
   ]
  },
  {
   "cell_type": "code",
   "execution_count": 7,
   "metadata": {},
   "outputs": [
    {
     "data": {
      "text/plain": [
       "183"
      ]
     },
     "execution_count": 7,
     "metadata": {},
     "output_type": "execute_result"
    }
   ],
   "source": [
    "product_category_map.count()"
   ]
  },
  {
   "cell_type": "markdown",
   "metadata": {},
   "source": [
    "### Join"
   ]
  },
  {
   "cell_type": "code",
   "execution_count": 8,
   "metadata": {},
   "outputs": [],
   "source": [
    "df = rw_transaction_data.join(product_category_map, on = ['product_id', 'product_type_id', 'module_id'], how='inner')"
   ]
  },
  {
   "cell_type": "code",
   "execution_count": 9,
   "metadata": {},
   "outputs": [
    {
     "data": {
      "text/plain": [
       "216423"
      ]
     },
     "execution_count": 9,
     "metadata": {},
     "output_type": "execute_result"
    }
   ],
   "source": [
    "df.count()"
   ]
  },
  {
   "cell_type": "code",
   "execution_count": 10,
   "metadata": {},
   "outputs": [
    {
     "name": "stdout",
     "output_type": "stream",
     "text": [
      "+----------+---------------+---------+---------+------------------+---------------------+------------+------+------+----------------+-------------------+------------+----------------+--------------+--------------------+--------+--------------------+-------------------+-----------+\n",
      "|product_id|product_type_id|module_id|   txn_id|last_modified_date|last_modified_date_bs|created_date|amount|status|payer_account_id|receiver_account_id|reward_point|cash_back_amount|revenue_amount|transactor_module_id|    time|        product_name|product_category_id|   txn_flow|\n",
      "+----------+---------------+---------+---------+------------------+---------------------+------------+------+------+----------------+-------------------+------------+----------------+--------------+--------------------+--------+--------------------+-------------------+-----------+\n",
      "|       143|             59|        1|693893736|        2023-01-06|           2079-09-22|  2023-01-06| 175.0|     1|             531|                466|         0.0|             0.0|           0.0|                   4|11:20:32|Gunjanagar Khanepani|                 17|Value Chain|\n",
      "|       143|             59|        1|693923060|        2023-01-06|           2079-09-22|  2023-01-06| 325.0|     1|             531|                466|         0.0|             0.0|           0.0|                   4|11:51:44|Gunjanagar Khanepani|                 17|Value Chain|\n",
      "|       143|             59|        1|696637027|        2023-01-10|           2079-09-26|  2023-01-10| 115.0|     1|             531|                466|         0.0|             0.0|           0.0|                   4|06:13:57|Gunjanagar Khanepani|                 17|Value Chain|\n",
      "|       143|             59|        1|702293219|        2023-01-17|           2079-10-03|  2023-01-17| 100.0|     1|             531|                466|         0.0|             0.0|           5.0|                   4|16:55:50|Gunjanagar Khanepani|                 17|Value Chain|\n",
      "|       143|             59|        1|709026449|        2023-01-26|           2079-10-12|  2023-01-26| 355.0|     1|             531|                466|         0.0|             0.0|           5.0|                   4|12:48:47|Gunjanagar Khanepani|                 17|Value Chain|\n",
      "+----------+---------------+---------+---------+------------------+---------------------+------------+------+------+----------------+-------------------+------------+----------------+--------------+--------------------+--------+--------------------+-------------------+-----------+\n",
      "only showing top 5 rows\n",
      "\n"
     ]
    }
   ],
   "source": [
    "df.show(5)"
   ]
  },
  {
   "cell_type": "markdown",
   "metadata": {},
   "source": [
    "### Date Operations"
   ]
  },
  {
   "cell_type": "code",
   "execution_count": 11,
   "metadata": {},
   "outputs": [],
   "source": [
    "\n",
    "df = df.withColumn(\"last_modified_date\", col(\"last_modified_date\").cast(\"string\"))\n",
    "df = df.withColumn(\"dates\", concat_ws(\" \", col(\"last_modified_date\"), col(\"time\")))\n",
    "df = df.withColumn('dates', to_timestamp('dates', 'yyyy-MM-dd HH:mm:ss'))\n",
    "df = df.withColumn(\"last_modified_date\", to_date('last_modified_date', 'yyyy-MM-dd'))\n"
   ]
  },
  {
   "cell_type": "code",
   "execution_count": 12,
   "metadata": {},
   "outputs": [],
   "source": [
    "df = df.withColumn(\"month\", month('last_modified_date'))"
   ]
  },
  {
   "cell_type": "code",
   "execution_count": 13,
   "metadata": {},
   "outputs": [
    {
     "name": "stdout",
     "output_type": "stream",
     "text": [
      "+----------+---------------+---------+---------+------------------+---------------------+------------+------+------+----------------+-------------------+------------+----------------+--------------+--------------------+--------+--------------------+-------------------+-----------+-------------------+-----+\n",
      "|product_id|product_type_id|module_id|   txn_id|last_modified_date|last_modified_date_bs|created_date|amount|status|payer_account_id|receiver_account_id|reward_point|cash_back_amount|revenue_amount|transactor_module_id|    time|        product_name|product_category_id|   txn_flow|              dates|month|\n",
      "+----------+---------------+---------+---------+------------------+---------------------+------------+------+------+----------------+-------------------+------------+----------------+--------------+--------------------+--------+--------------------+-------------------+-----------+-------------------+-----+\n",
      "|       143|             59|        1|693893736|        2023-01-06|           2079-09-22|  2023-01-06| 175.0|     1|             531|                466|         0.0|             0.0|           0.0|                   4|11:20:32|Gunjanagar Khanepani|                 17|Value Chain|2023-01-06 11:20:32|    1|\n",
      "|       143|             59|        1|693923060|        2023-01-06|           2079-09-22|  2023-01-06| 325.0|     1|             531|                466|         0.0|             0.0|           0.0|                   4|11:51:44|Gunjanagar Khanepani|                 17|Value Chain|2023-01-06 11:51:44|    1|\n",
      "|       143|             59|        1|696637027|        2023-01-10|           2079-09-26|  2023-01-10| 115.0|     1|             531|                466|         0.0|             0.0|           0.0|                   4|06:13:57|Gunjanagar Khanepani|                 17|Value Chain|2023-01-10 06:13:57|    1|\n",
      "|       143|             59|        1|702293219|        2023-01-17|           2079-10-03|  2023-01-17| 100.0|     1|             531|                466|         0.0|             0.0|           5.0|                   4|16:55:50|Gunjanagar Khanepani|                 17|Value Chain|2023-01-17 16:55:50|    1|\n",
      "|       143|             59|        1|709026449|        2023-01-26|           2079-10-12|  2023-01-26| 355.0|     1|             531|                466|         0.0|             0.0|           5.0|                   4|12:48:47|Gunjanagar Khanepani|                 17|Value Chain|2023-01-26 12:48:47|    1|\n",
      "+----------+---------------+---------+---------+------------------+---------------------+------------+------+------+----------------+-------------------+------------+----------------+--------------+--------------------+--------+--------------------+-------------------+-----------+-------------------+-----+\n",
      "only showing top 5 rows\n",
      "\n"
     ]
    }
   ],
   "source": [
    "df.show(5)"
   ]
  },
  {
   "cell_type": "markdown",
   "metadata": {},
   "source": [
    "### Txn Flow"
   ]
  },
  {
   "cell_type": "code",
   "execution_count": 14,
   "metadata": {},
   "outputs": [],
   "source": [
    "grouped_df = df.groupBy(['payer_account_id', 'month', 'txn_flow']).agg(count('amount').alias('count'), sum('amount').alias('sum'))"
   ]
  },
  {
   "cell_type": "code",
   "execution_count": 15,
   "metadata": {},
   "outputs": [
    {
     "name": "stdout",
     "output_type": "stream",
     "text": [
      "+----------------+-----+-----------+-----+-----------+\n",
      "|payer_account_id|month|   txn_flow|count|        sum|\n",
      "+----------------+-----+-----------+-----+-----------+\n",
      "|              34|    1|Value Chain|  517|  1198676.0|\n",
      "|              34|    1|     InFlow|  730|1.2991992E7|\n",
      "|             222|    5|    OutFlow|    1|      650.0|\n",
      "|             531|    3|Value Chain|17121|  5572004.0|\n",
      "|              26|    5|     InFlow|   79|   331040.0|\n",
      "|             471|    1|Value Chain|  508|    97023.0|\n",
      "|              56|    1|Value Chain|  790|   329529.0|\n",
      "|             531|    1|Value Chain|20695|  5440140.0|\n",
      "|            1056|    1|Value Chain|    8|      650.0|\n",
      "|            1056|    1|    OutFlow|    1|      755.0|\n",
      "|              56|    5|    OutFlow|   76|   710800.0|\n",
      "|              34|    1|    OutFlow|  793|1.3915812E7|\n",
      "|              34|    3|Value Chain|  557|   960637.0|\n",
      "|              56|    1|     InFlow|   94|   114575.0|\n",
      "|             222|    1|Value Chain|   20|     2090.0|\n",
      "|             471|    4|     InFlow|   22|    18040.0|\n",
      "|             471|    4|Value Chain|  551|   102418.0|\n",
      "|              56|    5|Value Chain|  791|   371770.0|\n",
      "|             222|    2|     InFlow|    1|      250.0|\n",
      "|             538|    5|Value Chain|    2|       20.0|\n",
      "+----------------+-----+-----------+-----+-----------+\n",
      "only showing top 20 rows\n",
      "\n"
     ]
    }
   ],
   "source": [
    "grouped_df.show()"
   ]
  },
  {
   "cell_type": "code",
   "execution_count": 16,
   "metadata": {},
   "outputs": [
    {
     "name": "stdout",
     "output_type": "stream",
     "text": [
      "+----------------+-------------------+---------------------+--------------------+----------------------+------------------------+--------------------------+\n",
      "|payer_account_id|InFlow_total_amount|InFlow_monthly_amount|OutFlow_total_amount|OutFlow_monthly_amount|Value Chain_total_amount|Value Chain_monthly_amount|\n",
      "+----------------+-------------------+---------------------+--------------------+----------------------+------------------------+--------------------------+\n",
      "|             471|            54320.0|              10864.0|             55320.0|               11064.0|                454930.0|         75821.66666666667|\n",
      "|              34|        6.2469919E7| 1.0411653166666666E7|         6.5480803E7|  1.0913467166666666E7|               4258781.0|         709796.8333333334|\n",
      "|              26|          1437011.0|             287402.2|           2997891.0|              599578.2|                878291.0|        146381.83333333334|\n",
      "|            1056|             6255.0|               3127.5|              9255.0|                3085.0|                  7332.0|                    1222.0|\n",
      "|             222|              420.0|                210.0|              3070.0|                 767.5|                 13970.0|        2328.3333333333335|\n",
      "|            1176|               NULL|                 NULL|                NULL|                  NULL|                    20.0|                      20.0|\n",
      "|             531|               NULL|                 NULL|                NULL|                  NULL|             3.8623871E7|         6437311.833333333|\n",
      "|             538|               NULL|                 NULL|                NULL|                  NULL|                    20.0|                      20.0|\n",
      "|              56|           590322.0|              98387.0|           4009942.0|     668323.6666666666|               1822126.0|         303687.6666666667|\n",
      "+----------------+-------------------+---------------------+--------------------+----------------------+------------------------+--------------------------+\n",
      "\n"
     ]
    }
   ],
   "source": [
    "\n",
    "pivot_grouped_df_sum = grouped_df.groupBy('payer_account_id').pivot('txn_flow').agg(sum('sum').alias('total_amount'), avg('sum').alias('monthly_amount'))\n",
    "\n",
    "pivot_grouped_df_sum.show()"
   ]
  },
  {
   "cell_type": "code",
   "execution_count": 18,
   "metadata": {},
   "outputs": [
    {
     "name": "stdout",
     "output_type": "stream",
     "text": [
      "+----------------+------------------+--------------------+-------------------+---------------------+-----------------------+-------------------------+\n",
      "|payer_account_id|InFlow_total_count|InFlow_monthly_count|OutFlow_total_count|OutFlow_monthly_count|Value Chain_total_count|Value Chain_monthly_count|\n",
      "+----------------+------------------+--------------------+-------------------+---------------------+-----------------------+-------------------------+\n",
      "|             471|                65|                13.0|                 66|                 13.2|                   2392|        398.6666666666667|\n",
      "|              34|              3477|               579.5|               3709|    618.1666666666666|                   2379|                    396.5|\n",
      "|              26|               469|                93.8|                571|                114.2|                   1733|        288.8333333333333|\n",
      "|            1056|                 2|                 1.0|                  3|                  1.0|                     63|                     10.5|\n",
      "|             222|                 2|                 1.0|                  4|                  1.0|                     79|       13.166666666666666|\n",
      "|            1176|              NULL|                NULL|               NULL|                 NULL|                      2|                      2.0|\n",
      "|             531|              NULL|                NULL|               NULL|                 NULL|                 195965|       32660.833333333332|\n",
      "|             538|              NULL|                NULL|               NULL|                 NULL|                      2|                      2.0|\n",
      "|              56|               405|                67.5|                554|    92.33333333333333|                   4481|        746.8333333333334|\n",
      "+----------------+------------------+--------------------+-------------------+---------------------+-----------------------+-------------------------+\n",
      "\n"
     ]
    }
   ],
   "source": [
    "pivot_grouped_df_count = grouped_df.groupBy('payer_account_id').pivot('txn_flow').agg(sum('count').alias('total_count'), avg('count').alias('monthly_count'))\n",
    "\n",
    "pivot_grouped_df_count.show()"
   ]
  },
  {
   "cell_type": "markdown",
   "metadata": {},
   "source": [
    "### Reward Points"
   ]
  },
  {
   "cell_type": "code",
   "execution_count": 48,
   "metadata": {},
   "outputs": [],
   "source": [
    "reward_agg = df.groupBy('payer_account_id').agg(sum('reward_point').alias('reward_point'))"
   ]
  },
  {
   "cell_type": "code",
   "execution_count": 49,
   "metadata": {},
   "outputs": [
    {
     "name": "stdout",
     "output_type": "stream",
     "text": [
      "+----------------+------------+\n",
      "|payer_account_id|reward_point|\n",
      "+----------------+------------+\n",
      "|             471|       180.0|\n",
      "|              34|      2639.0|\n",
      "|              26|       207.0|\n",
      "|            1056|        52.0|\n",
      "|             222|        22.0|\n",
      "|            1176|         0.0|\n",
      "|             531|         0.0|\n",
      "|             538|         0.0|\n",
      "|              56|       805.0|\n",
      "+----------------+------------+\n",
      "\n"
     ]
    }
   ],
   "source": [
    "reward_agg.show()"
   ]
  },
  {
   "cell_type": "markdown",
   "metadata": {},
   "source": [
    "### Revenue"
   ]
  },
  {
   "cell_type": "code",
   "execution_count": 21,
   "metadata": {},
   "outputs": [],
   "source": [
    "monthly_revenue = df.groupBy(['payer_account_id', 'month']).agg(sum('revenue_amount').alias('revenue_amount'))"
   ]
  },
  {
   "cell_type": "code",
   "execution_count": 22,
   "metadata": {},
   "outputs": [],
   "source": [
    "revenue = monthly_revenue.groupBy('payer_account_id').agg(avg('revenue_amount').alias('monthly_average_lifetime_revenue'), sum('revenue_amount').alias('total_revenue'))"
   ]
  },
  {
   "cell_type": "code",
   "execution_count": 23,
   "metadata": {},
   "outputs": [
    {
     "name": "stdout",
     "output_type": "stream",
     "text": [
      "+----------------+--------------------------------+-------------------+\n",
      "|payer_account_id|monthly_average_lifetime_revenue|      total_revenue|\n",
      "+----------------+--------------------------------+-------------------+\n",
      "|             471|              229.40999999999977| 1376.4599999999987|\n",
      "|              34|              2050.7116666666657| 12304.269999999993|\n",
      "|              26|              285.86833333333396|  1715.210000000004|\n",
      "|            1056|               21.88333333333333| 131.29999999999998|\n",
      "|             222|              18.179999999999996| 109.07999999999998|\n",
      "|            1176|                            0.56|               0.56|\n",
      "|             531|              19670.311666666665|          118021.87|\n",
      "|             538|             0.08000000000000007|0.08000000000000007|\n",
      "|              56|              1172.4933333333402|  7034.960000000041|\n",
      "+----------------+--------------------------------+-------------------+\n",
      "\n"
     ]
    }
   ],
   "source": [
    "revenue.show()"
   ]
  },
  {
   "cell_type": "markdown",
   "metadata": {},
   "source": [
    "### Latest Transaction Date"
   ]
  },
  {
   "cell_type": "code",
   "execution_count": 24,
   "metadata": {},
   "outputs": [],
   "source": [
    "latest_trans_date = df.groupBy('payer_account_id').agg(max('dates').alias('latest_transaction_date'))"
   ]
  },
  {
   "cell_type": "code",
   "execution_count": 25,
   "metadata": {},
   "outputs": [
    {
     "name": "stdout",
     "output_type": "stream",
     "text": [
      "+----------+---------------+---------+---------+------------------+---------------------+------------+------+------+----------------+-------------------+------------+----------------+--------------+--------------------+--------+--------------------+-------------------+-----------+-------------------+-----+\n",
      "|product_id|product_type_id|module_id|   txn_id|last_modified_date|last_modified_date_bs|created_date|amount|status|payer_account_id|receiver_account_id|reward_point|cash_back_amount|revenue_amount|transactor_module_id|    time|        product_name|product_category_id|   txn_flow|              dates|month|\n",
      "+----------+---------------+---------+---------+------------------+---------------------+------------+------+------+----------------+-------------------+------------+----------------+--------------+--------------------+--------+--------------------+-------------------+-----------+-------------------+-----+\n",
      "|       143|             59|        1|693893736|        2023-01-06|           2079-09-22|  2023-01-06| 175.0|     1|             531|                466|         0.0|             0.0|           0.0|                   4|11:20:32|Gunjanagar Khanepani|                 17|Value Chain|2023-01-06 11:20:32|    1|\n",
      "|       143|             59|        1|693923060|        2023-01-06|           2079-09-22|  2023-01-06| 325.0|     1|             531|                466|         0.0|             0.0|           0.0|                   4|11:51:44|Gunjanagar Khanepani|                 17|Value Chain|2023-01-06 11:51:44|    1|\n",
      "|       143|             59|        1|696637027|        2023-01-10|           2079-09-26|  2023-01-10| 115.0|     1|             531|                466|         0.0|             0.0|           0.0|                   4|06:13:57|Gunjanagar Khanepani|                 17|Value Chain|2023-01-10 06:13:57|    1|\n",
      "|       143|             59|        1|702293219|        2023-01-17|           2079-10-03|  2023-01-17| 100.0|     1|             531|                466|         0.0|             0.0|           5.0|                   4|16:55:50|Gunjanagar Khanepani|                 17|Value Chain|2023-01-17 16:55:50|    1|\n",
      "|       143|             59|        1|709026449|        2023-01-26|           2079-10-12|  2023-01-26| 355.0|     1|             531|                466|         0.0|             0.0|           5.0|                   4|12:48:47|Gunjanagar Khanepani|                 17|Value Chain|2023-01-26 12:48:47|    1|\n",
      "+----------+---------------+---------+---------+------------------+---------------------+------------+------+------+----------------+-------------------+------------+----------------+--------------+--------------------+--------+--------------------+-------------------+-----------+-------------------+-----+\n",
      "only showing top 5 rows\n",
      "\n"
     ]
    }
   ],
   "source": [
    "df.show(5)"
   ]
  },
  {
   "cell_type": "code",
   "execution_count": 26,
   "metadata": {},
   "outputs": [
    {
     "name": "stdout",
     "output_type": "stream",
     "text": [
      "+----------------+-----------------------+\n",
      "|payer_account_id|latest_transaction_date|\n",
      "+----------------+-----------------------+\n",
      "|             471|    2023-05-24 18:30:54|\n",
      "|              34|    2023-05-24 19:53:52|\n",
      "|              26|    2023-05-24 20:46:04|\n",
      "|            1056|    2023-05-21 19:34:59|\n",
      "|             222|    2023-05-16 14:58:00|\n",
      "|            1176|    2023-03-04 15:19:19|\n",
      "|             531|    2023-05-24 23:59:25|\n",
      "|             538|    2023-05-18 18:48:37|\n",
      "|              56|    2023-05-24 19:57:46|\n",
      "+----------------+-----------------------+\n",
      "\n"
     ]
    }
   ],
   "source": [
    "latest_trans_date.show()"
   ]
  },
  {
   "cell_type": "code",
   "execution_count": 27,
   "metadata": {},
   "outputs": [
    {
     "name": "stdout",
     "output_type": "stream",
     "text": [
      "+----------+---------------+---------+---------+------------------+---------------------+------------+------+------+----------------+-------------------+------------+----------------+--------------------+--------------------+--------+--------------------+-------------------+-----------+-------------------+-----+\n",
      "|product_id|product_type_id|module_id|   txn_id|last_modified_date|last_modified_date_bs|created_date|amount|status|payer_account_id|receiver_account_id|reward_point|cash_back_amount|      revenue_amount|transactor_module_id|    time|        product_name|product_category_id|   txn_flow|              dates|month|\n",
      "+----------+---------------+---------+---------+------------------+---------------------+------------+------+------+----------------+-------------------+------------+----------------+--------------------+--------------------+--------+--------------------+-------------------+-----------+-------------------+-----+\n",
      "|         2|             12|        1|809054178|        2023-05-24|           2080-02-10|  2023-05-24|4950.0|     1|              34|                108|         0.0|             0.0|                 0.0|                   4|19:53:52|          Send Money|                 90|    OutFlow|2023-05-24 19:53:52|    5|\n",
      "|         2|             12|        1|809054178|        2023-05-24|           2080-02-10|  2023-05-24|4950.0|     1|              34|                108|         0.0|             0.0|                 0.0|                   4|19:53:52|          Send Money|                 90|     InFlow|2023-05-24 19:53:52|    5|\n",
      "|       161|             68|        1|809073454|        2023-05-24|           2080-02-10|  2023-05-24|1300.0|     1|              26|                552|         0.0|            13.0|                 0.0|                   4|20:46:04|           WorldLink|                 19|Value Chain|2023-05-24 20:46:04|    5|\n",
      "|         4|             25|        1|738554769|        2023-03-04|           2079-11-20|  2023-03-04|  10.0|     1|            1176|                664|         0.0|             0.0|                0.28|                   3|15:19:19|         Ncell Topup|                 14|Value Chain|2023-03-04 15:19:19|    3|\n",
      "|         4|             25|        1|738554769|        2023-03-04|           2079-11-20|  2023-03-04|  10.0|     1|            1176|                664|         0.0|             0.0|                0.28|                   3|15:19:19|         Ncell Topup|               NULL|Value Chain|2023-03-04 15:19:19|    3|\n",
      "|        19|             35|        1|801445256|        2023-05-16|           2080-02-02|  2023-05-16|  50.0|     1|             222|                898|         0.0|            1.63| 0.32000000000000006|                   4|14:58:00|    NT Prepaid Topup|                 14|Value Chain|2023-05-16 14:58:00|    5|\n",
      "|        19|             35|        1|801445256|        2023-05-16|           2080-02-02|  2023-05-16|  50.0|     1|             222|                898|         0.0|            1.63| 0.32000000000000006|                   4|14:58:00|       Prepaid Topup|               NULL|Value Chain|2023-05-16 14:58:00|    5|\n",
      "|        19|             35|        1|803491225|        2023-05-18|           2080-02-04|  2023-05-18|  10.0|     1|             538|                 97|         0.0|            0.35|0.040000000000000036|                   4|18:48:37|    NT Prepaid Topup|                 14|Value Chain|2023-05-18 18:48:37|    5|\n",
      "|        19|             35|        1|803491225|        2023-05-18|           2080-02-04|  2023-05-18|  10.0|     1|             538|                 97|         0.0|            0.35|0.040000000000000036|                   4|18:48:37|       Prepaid Topup|               NULL|Value Chain|2023-05-18 18:48:37|    5|\n",
      "|        19|             35|        1|806290423|        2023-05-21|           2080-02-07|  2023-05-21|  35.0|     1|            1056|                901|         0.0|            1.05| 0.31000000000000005|                   4|19:34:59|    NT Prepaid Topup|                 14|Value Chain|2023-05-21 19:34:59|    5|\n",
      "|        19|             35|        1|806290423|        2023-05-21|           2080-02-07|  2023-05-21|  35.0|     1|            1056|                901|         0.0|            1.05| 0.31000000000000005|                   4|19:34:59|       Prepaid Topup|               NULL|Value Chain|2023-05-21 19:34:59|    5|\n",
      "|         4|             25|        1|808950953|        2023-05-24|           2080-02-10|  2023-05-24|  50.0|     1|             471|                171|         0.0|            1.25|  0.1299999999999999|                   4|18:30:54|         Ncell Topup|                 14|Value Chain|2023-05-24 18:30:54|    5|\n",
      "|         4|             25|        1|808950953|        2023-05-24|           2080-02-10|  2023-05-24|  50.0|     1|             471|                171|         0.0|            1.25|  0.1299999999999999|                   4|18:30:54|         Ncell Topup|               NULL|Value Chain|2023-05-24 18:30:54|    5|\n",
      "|         4|             25|        1|809056603|        2023-05-24|           2080-02-10|  2023-05-24| 270.0|     1|              56|                657|         0.0|             0.0|                7.42|                   4|19:57:46|         Ncell Topup|                 14|Value Chain|2023-05-24 19:57:46|    5|\n",
      "|         4|             25|        1|809056603|        2023-05-24|           2080-02-10|  2023-05-24| 270.0|     1|              56|                657|         0.0|             0.0|                7.42|                   4|19:57:46|         Ncell Topup|               NULL|Value Chain|2023-05-24 19:57:46|    5|\n",
      "|        77|             29|        1|809168558|        2023-05-24|           2080-02-10|  2023-05-24|  50.0|     1|             531|                647|         0.0|            1.38|                 0.0|                   4|23:59:25|Ncell Topup via Bank|                 14|Value Chain|2023-05-24 23:59:25|    5|\n",
      "|        77|             29|        1|809168558|        2023-05-24|           2080-02-10|  2023-05-24|  50.0|     1|             531|                647|         0.0|            1.38|                 0.0|                   4|23:59:25|TOPUP VIA BANK DI...|               NULL|Value Chain|2023-05-24 23:59:25|    5|\n",
      "+----------+---------------+---------+---------+------------------+---------------------+------------+------+------+----------------+-------------------+------------+----------------+--------------------+--------------------+--------+--------------------+-------------------+-----------+-------------------+-----+\n",
      "\n"
     ]
    }
   ],
   "source": [
    "df.join(latest_trans_date, on=latest_trans_date['latest_transaction_date'] == df['dates'], how = 'semi').show()"
   ]
  },
  {
   "cell_type": "code",
   "execution_count": 28,
   "metadata": {},
   "outputs": [],
   "source": [
    "latest = df.join(latest_trans_date, on=latest_trans_date['latest_transaction_date'] == df['dates'], how = 'semi').select(df['payer_account_id'], df['dates'].alias('latest_transaction_date'), df['product_name'].alias('latest_used_product'))"
   ]
  },
  {
   "cell_type": "code",
   "execution_count": 29,
   "metadata": {},
   "outputs": [],
   "source": [
    "latest = latest.dropDuplicates(['payer_account_id'])"
   ]
  },
  {
   "cell_type": "code",
   "execution_count": 30,
   "metadata": {},
   "outputs": [
    {
     "name": "stdout",
     "output_type": "stream",
     "text": [
      "+----------------+-----------------------+--------------------+\n",
      "|payer_account_id|latest_transaction_date| latest_used_product|\n",
      "+----------------+-----------------------+--------------------+\n",
      "|              26|    2023-05-24 20:46:04|           WorldLink|\n",
      "|              34|    2023-05-24 19:53:52|          Send Money|\n",
      "|              56|    2023-05-24 19:57:46|         Ncell Topup|\n",
      "|             222|    2023-05-16 14:58:00|    NT Prepaid Topup|\n",
      "|             471|    2023-05-24 18:30:54|         Ncell Topup|\n",
      "|             531|    2023-05-24 23:59:25|Ncell Topup via Bank|\n",
      "|             538|    2023-05-18 18:48:37|    NT Prepaid Topup|\n",
      "|            1056|    2023-05-21 19:34:59|    NT Prepaid Topup|\n",
      "|            1176|    2023-03-04 15:19:19|         Ncell Topup|\n",
      "+----------------+-----------------------+--------------------+\n",
      "\n"
     ]
    }
   ],
   "source": [
    "latest.show()"
   ]
  },
  {
   "cell_type": "markdown",
   "metadata": {},
   "source": [
    "### Product Usage"
   ]
  },
  {
   "cell_type": "code",
   "execution_count": 42,
   "metadata": {},
   "outputs": [
    {
     "name": "stdout",
     "output_type": "stream",
     "text": [
      "+----------------+-------------+\n",
      "|payer_account_id|product usage|\n",
      "+----------------+-------------+\n",
      "|             471|         2523|\n",
      "|              34|         9565|\n",
      "|              26|         2773|\n",
      "|            1056|           68|\n",
      "|             222|           85|\n",
      "|            1176|            2|\n",
      "|             531|       195965|\n",
      "|             538|            2|\n",
      "|              56|         5440|\n",
      "+----------------+-------------+\n",
      "\n"
     ]
    }
   ],
   "source": [
    "product_usage = df.groupBy('payer_account_id').agg(count('product_id').alias('product usage'))\n",
    "product_usage.show()"
   ]
  },
  {
   "cell_type": "markdown",
   "metadata": {},
   "source": [
    "### Nth Used Product"
   ]
  },
  {
   "cell_type": "code",
   "execution_count": 32,
   "metadata": {},
   "outputs": [],
   "source": [
    "product_counts = df.groupBy('payer_account_id', 'product_name').agg(count('product_name').alias('product usage'))"
   ]
  },
  {
   "cell_type": "code",
   "execution_count": 33,
   "metadata": {},
   "outputs": [
    {
     "name": "stdout",
     "output_type": "stream",
     "text": [
      "+----------------+--------------------+-------------+\n",
      "|payer_account_id|        product_name|product usage|\n",
      "+----------------+--------------------+-------------+\n",
      "|              34|          Send Money|         6926|\n",
      "|             531| Budhabare Khanepani|           29|\n",
      "|             531|Chandragadi Khane...|           33|\n",
      "|              26|     Dish Home Topup|           17|\n",
      "|             531|   Bhaluhi khanepani|          210|\n",
      "|              34|           Prabhu TV|           13|\n",
      "|             531|Khanepani Sanstha...|          531|\n",
      "|              56|             Cash In|           52|\n",
      "|             531|    Brihat Khanepani|          112|\n",
      "|              26|         Electricity|           18|\n",
      "|              34|Chhimek Laghubitt...|            5|\n",
      "|             531| Besisahar Khanepani|          125|\n",
      "|              56|eSewa to Citizens...|          126|\n",
      "|              56|          Ncell Pack|          338|\n",
      "|              34|          Ncell Pack|            2|\n",
      "|             471|          Send Money|          128|\n",
      "|              26|             NT FTTH|           17|\n",
      "|             531|   Sunawal Khanepani|           88|\n",
      "|             531|   Katunje Khanepani|            7|\n",
      "|             531| Dhulikhel Khanepani|           19|\n",
      "+----------------+--------------------+-------------+\n",
      "only showing top 20 rows\n",
      "\n"
     ]
    }
   ],
   "source": [
    "product_counts.show()"
   ]
  },
  {
   "cell_type": "code",
   "execution_count": 34,
   "metadata": {},
   "outputs": [],
   "source": [
    "# Sort by payer_account_id ascending and count descending\n",
    "\n",
    "from pyspark.sql.window import Window"
   ]
  },
  {
   "cell_type": "code",
   "execution_count": 35,
   "metadata": {},
   "outputs": [],
   "source": [
    "ranked_products = product_counts.withColumn(\"row_number\", row_number().over(Window.partitionBy(\"payer_account_id\").orderBy(col(\"product usage\").desc())))"
   ]
  },
  {
   "cell_type": "code",
   "execution_count": 36,
   "metadata": {},
   "outputs": [
    {
     "name": "stdout",
     "output_type": "stream",
     "text": [
      "+----------------+--------------------+-------------+----------+\n",
      "|payer_account_id|        product_name|product usage|row_number|\n",
      "+----------------+--------------------+-------------+----------+\n",
      "|              26|          Send Money|          622|         1|\n",
      "|              26|         Ncell Topup|          546|         2|\n",
      "|              26|    NT Prepaid Topup|          472|         3|\n",
      "|              26|       Prepaid Topup|          472|         4|\n",
      "|              26|             Cash In|          276|         5|\n",
      "|              26|     Fonepay Payment|           75|         6|\n",
      "|              26|      eScrow Service|           40|         7|\n",
      "|              26|Linked Account Wi...|           31|         8|\n",
      "|              26|           WorldLink|           30|         9|\n",
      "|              26|      Postpaid Topup|           27|        10|\n",
      "|              26|   NT Postpaid Topup|           27|        11|\n",
      "|              26|eSewa to Mahalaxm...|           21|        12|\n",
      "|              26|         Electricity|           18|        13|\n",
      "|              26|     Dish Home Topup|           17|        14|\n",
      "|              26|             NT FTTH|           17|        15|\n",
      "|              26|eSewa to Global I...|           15|        16|\n",
      "|              26|eSewa to NIC Asia...|           14|        17|\n",
      "|              26|eSewa to Laxmi Su...|           13|        18|\n",
      "|              26|    Smart Cell Topup|            8|        19|\n",
      "|              26| NT Landline Payment|            7|        20|\n",
      "+----------------+--------------------+-------------+----------+\n",
      "only showing top 20 rows\n",
      "\n"
     ]
    }
   ],
   "source": [
    "ranked_products.show()"
   ]
  },
  {
   "cell_type": "code",
   "execution_count": 37,
   "metadata": {},
   "outputs": [],
   "source": [
    "# most_used_product = ranked_products.filter(col(\"row_number\") == 1).drop(\"row_number\")\n",
    "# second_used_product = ranked_products.filter(col(\"row_number\") == 2).drop(\"row_number\")\n",
    "# third_used_product = ranked_products.filter(col(\"row_number\") == 3).drop(\"row_number\")\n"
   ]
  },
  {
   "cell_type": "code",
   "execution_count": 38,
   "metadata": {},
   "outputs": [],
   "source": [
    "nth_result_df = ranked_products.groupBy(\"payer_account_id\").agg(\n",
    "    max(when(col(\"row_number\") == 1, col(\"product_name\"))).alias(\"most_used_product\"),\n",
    "    max(when(col(\"row_number\") == 2, col(\"product_name\"))).alias(\"second_most_used_product\"),\n",
    "    max(when(col(\"row_number\") == 3, col(\"product_name\"))).alias(\"third_most_used_product\")\n",
    ")"
   ]
  },
  {
   "cell_type": "code",
   "execution_count": 39,
   "metadata": {},
   "outputs": [
    {
     "name": "stdout",
     "output_type": "stream",
     "text": [
      "+----------------+-----------------+------------------------+-----------------------+\n",
      "|payer_account_id|most_used_product|second_most_used_product|third_most_used_product|\n",
      "+----------------+-----------------+------------------------+-----------------------+\n",
      "|              26|       Send Money|             Ncell Topup|       NT Prepaid Topup|\n",
      "|              34|       Send Money|             Electricity|       NT Prepaid Topup|\n",
      "|              56|      Ncell Topup|             Electricity|             Send Money|\n",
      "|             222|      Ncell Topup|          Postpaid Topup|      NT Postpaid Topup|\n",
      "|             471|      Ncell Topup|           Prepaid Topup|       NT Prepaid Topup|\n",
      "|             531|NT Topup via Bank|    TOPUP VIA BANK DI...|   Ncell Topup via Bank|\n",
      "|             538|    Prepaid Topup|        NT Prepaid Topup|                   NULL|\n",
      "|            1056|    Prepaid Topup|        NT Prepaid Topup|            Ncell Topup|\n",
      "|            1176|      Ncell Topup|                    NULL|                   NULL|\n",
      "+----------------+-----------------+------------------------+-----------------------+\n",
      "\n"
     ]
    }
   ],
   "source": [
    "nth_result_df.show()"
   ]
  },
  {
   "cell_type": "code",
   "execution_count": 52,
   "metadata": {},
   "outputs": [],
   "source": [
    "final_result = (\n",
    "    pivot_grouped_df_sum\n",
    "    .join(pivot_grouped_df_count, on='payer_account_id')\n",
    "    .join(reward_agg, on='payer_account_id')\n",
    "    .join(revenue, on='payer_account_id')\n",
    "    .join(latest, on='payer_account_id')\n",
    "    .join(product_usage, on='payer_account_id')\n",
    "    .join(nth_result_df, on='payer_account_id')\n",
    ")"
   ]
  },
  {
   "cell_type": "code",
   "execution_count": 53,
   "metadata": {},
   "outputs": [
    {
     "name": "stdout",
     "output_type": "stream",
     "text": [
      "+----------------+-------------------+---------------------+--------------------+----------------------+------------------------+--------------------------+------------------+--------------------+-------------------+---------------------+-----------------------+-------------------------+------------+--------------------------------+-------------------+-----------------------+--------------------+-------------+-----------------+------------------------+-----------------------+\n",
      "|payer_account_id|InFlow_total_amount|InFlow_monthly_amount|OutFlow_total_amount|OutFlow_monthly_amount|Value Chain_total_amount|Value Chain_monthly_amount|InFlow_total_count|InFlow_monthly_count|OutFlow_total_count|OutFlow_monthly_count|Value Chain_total_count|Value Chain_monthly_count|reward_point|monthly_average_lifetime_revenue|      total_revenue|latest_transaction_date| latest_used_product|product usage|most_used_product|second_most_used_product|third_most_used_product|\n",
      "+----------------+-------------------+---------------------+--------------------+----------------------+------------------------+--------------------------+------------------+--------------------+-------------------+---------------------+-----------------------+-------------------------+------------+--------------------------------+-------------------+-----------------------+--------------------+-------------+-----------------+------------------------+-----------------------+\n",
      "|             471|            54320.0|              10864.0|             55320.0|               11064.0|                454930.0|         75821.66666666667|                65|                13.0|                 66|                 13.2|                   2392|        398.6666666666667|       180.0|              229.40999999999977| 1376.4599999999987|    2023-05-24 18:30:54|         Ncell Topup|         2523|      Ncell Topup|           Prepaid Topup|       NT Prepaid Topup|\n",
      "|              34|        6.2469919E7| 1.0411653166666666E7|         6.5480803E7|  1.0913467166666666E7|               4258781.0|         709796.8333333334|              3477|               579.5|               3709|    618.1666666666666|                   2379|                    396.5|      2639.0|              2050.7116666666657| 12304.269999999993|    2023-05-24 19:53:52|          Send Money|         9565|       Send Money|             Electricity|       NT Prepaid Topup|\n",
      "|              26|          1437011.0|             287402.2|           2997891.0|              599578.2|                878291.0|        146381.83333333334|               469|                93.8|                571|                114.2|                   1733|        288.8333333333333|       207.0|              285.86833333333396|  1715.210000000004|    2023-05-24 20:46:04|           WorldLink|         2773|       Send Money|             Ncell Topup|       NT Prepaid Topup|\n",
      "|            1056|             6255.0|               3127.5|              9255.0|                3085.0|                  7332.0|                    1222.0|                 2|                 1.0|                  3|                  1.0|                     63|                     10.5|        52.0|               21.88333333333333| 131.29999999999998|    2023-05-21 19:34:59|    NT Prepaid Topup|           68|    Prepaid Topup|        NT Prepaid Topup|            Ncell Topup|\n",
      "|             222|              420.0|                210.0|              3070.0|                 767.5|                 13970.0|        2328.3333333333335|                 2|                 1.0|                  4|                  1.0|                     79|       13.166666666666666|        22.0|              18.179999999999996| 109.07999999999998|    2023-05-16 14:58:00|    NT Prepaid Topup|           85|      Ncell Topup|          Postpaid Topup|      NT Postpaid Topup|\n",
      "|            1176|               NULL|                 NULL|                NULL|                  NULL|                    20.0|                      20.0|              NULL|                NULL|               NULL|                 NULL|                      2|                      2.0|         0.0|                            0.56|               0.56|    2023-03-04 15:19:19|         Ncell Topup|            2|      Ncell Topup|                    NULL|                   NULL|\n",
      "|             531|               NULL|                 NULL|                NULL|                  NULL|             3.8623871E7|         6437311.833333333|              NULL|                NULL|               NULL|                 NULL|                 195965|       32660.833333333332|         0.0|              19670.311666666665|          118021.87|    2023-05-24 23:59:25|Ncell Topup via Bank|       195965|NT Topup via Bank|    TOPUP VIA BANK DI...|   Ncell Topup via Bank|\n",
      "|             538|               NULL|                 NULL|                NULL|                  NULL|                    20.0|                      20.0|              NULL|                NULL|               NULL|                 NULL|                      2|                      2.0|         0.0|             0.08000000000000007|0.08000000000000007|    2023-05-18 18:48:37|    NT Prepaid Topup|            2|    Prepaid Topup|        NT Prepaid Topup|                   NULL|\n",
      "|              56|           590322.0|              98387.0|           4009942.0|     668323.6666666666|               1822126.0|         303687.6666666667|               405|                67.5|                554|    92.33333333333333|                   4481|        746.8333333333334|       805.0|              1172.4933333333402|  7034.960000000041|    2023-05-24 19:57:46|         Ncell Topup|         5440|      Ncell Topup|             Electricity|             Send Money|\n",
      "+----------------+-------------------+---------------------+--------------------+----------------------+------------------------+--------------------------+------------------+--------------------+-------------------+---------------------+-----------------------+-------------------------+------------+--------------------------------+-------------------+-----------------------+--------------------+-------------+-----------------+------------------------+-----------------------+\n",
      "\n"
     ]
    }
   ],
   "source": [
    "final_result.show()"
   ]
  },
  {
   "cell_type": "code",
   "execution_count": 47,
   "metadata": {},
   "outputs": [
    {
     "data": {
      "text/plain": [
       "22"
      ]
     },
     "execution_count": 47,
     "metadata": {},
     "output_type": "execute_result"
    }
   ],
   "source": [
    "len(final_result.columns)"
   ]
  },
  {
   "cell_type": "code",
   "execution_count": null,
   "metadata": {},
   "outputs": [],
   "source": []
  }
 ],
 "metadata": {
  "kernelspec": {
   "display_name": "Python 3",
   "language": "python",
   "name": "python3"
  },
  "language_info": {
   "codemirror_mode": {
    "name": "ipython",
    "version": 3
   },
   "file_extension": ".py",
   "mimetype": "text/x-python",
   "name": "python",
   "nbconvert_exporter": "python",
   "pygments_lexer": "ipython3",
   "version": "3.11.8"
  }
 },
 "nbformat": 4,
 "nbformat_minor": 2
}
