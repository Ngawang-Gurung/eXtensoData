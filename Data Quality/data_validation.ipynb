{
 "cells": [
  {
   "cell_type": "markdown",
   "metadata": {},
   "source": [
    "'''\n",
    "Author: Ngawang Gurung\n",
    "Date: 2024/07/24\n",
    "'''"
   ]
  },
  {
   "cell_type": "markdown",
   "metadata": {},
   "source": [
    "### Data Validation\n",
    "\n",
    "- Compare if the values between two tables match"
   ]
  },
  {
   "cell_type": "markdown",
   "metadata": {},
   "source": [
    "### Importing Libraries"
   ]
  },
  {
   "cell_type": "code",
   "execution_count": 1,
   "metadata": {},
   "outputs": [],
   "source": [
    "import pandas as pd"
   ]
  },
  {
   "cell_type": "markdown",
   "metadata": {},
   "source": [
    "### Loading Datasets"
   ]
  },
  {
   "cell_type": "code",
   "execution_count": 2,
   "metadata": {},
   "outputs": [],
   "source": [
    "dev_df = pd.read_csv('./dataset/developer_data.csv')\n",
    "qa_df = pd.read_csv('./dataset/qa_data.csv')"
   ]
  },
  {
   "cell_type": "code",
   "execution_count": 9,
   "metadata": {},
   "outputs": [
    {
     "name": "stdout",
     "output_type": "stream",
     "text": [
      "   account    amount\n",
      "0  3127143    3786.5\n",
      "1  4413248  135718.0\n",
      "2  4942722    8494.0\n",
      "3  5519726   19297.0\n",
      "4  9197174   11784.0\n",
      "5  9907844    1000.0\n",
      "6  9907848   56565.0\n"
     ]
    }
   ],
   "source": [
    "print(dev_df)"
   ]
  },
  {
   "cell_type": "code",
   "execution_count": 10,
   "metadata": {},
   "outputs": [
    {
     "name": "stdout",
     "output_type": "stream",
     "text": [
      "   account   amount\n",
      "0  3127143   3786.5\n",
      "1  4413248  13518.0\n",
      "2  4942722   8494.0\n",
      "3  5519726  19297.0\n",
      "4  9197174   1194.0\n",
      "5  9907844   1000.0\n"
     ]
    }
   ],
   "source": [
    "print(qa_df)"
   ]
  },
  {
   "cell_type": "markdown",
   "metadata": {},
   "source": [
    "### Data Validation Function"
   ]
  },
  {
   "cell_type": "code",
   "execution_count": 7,
   "metadata": {},
   "outputs": [],
   "source": [
    "def validation(df_1: pd.DataFrame, df_2: pd.DataFrame, primary_col: str, sec_col: str) -> pd.DataFrame:\n",
    "    \"\"\"\n",
    "    Validates two DataFrames by comparing the values of a secondary column after merging them on a primary column.\n",
    "\n",
    "    Parameters:\n",
    "    df_1 (pd.DataFrame): The first DataFrame.\n",
    "    df_2 (pd.DataFrame): The second DataFrame.\n",
    "    primary_col (str): The column name to merge on.\n",
    "    sec_col (str): The column name to compare.\n",
    "\n",
    "    Returns:\n",
    "    pd.DataFrame: A merged DataFrame with a 'status' column indicating \"Pass\" if values match in sec_col, \n",
    "    otherwise \"Fail\".\n",
    "    \"\"\"\n",
    "    \n",
    "    df = pd.merge(df_1, df_2, how='outer', on=primary_col)\n",
    "    df['status'] = df.apply(lambda x: \"Pass\" if x[f'{sec_col}_x'] == x[f'{sec_col}_y'] else \"Fail\", axis=1)\n",
    "    return df\n"
   ]
  },
  {
   "cell_type": "code",
   "execution_count": 8,
   "metadata": {},
   "outputs": [
    {
     "data": {
      "text/html": [
       "<div>\n",
       "<style scoped>\n",
       "    .dataframe tbody tr th:only-of-type {\n",
       "        vertical-align: middle;\n",
       "    }\n",
       "\n",
       "    .dataframe tbody tr th {\n",
       "        vertical-align: top;\n",
       "    }\n",
       "\n",
       "    .dataframe thead th {\n",
       "        text-align: right;\n",
       "    }\n",
       "</style>\n",
       "<table border=\"1\" class=\"dataframe\">\n",
       "  <thead>\n",
       "    <tr style=\"text-align: right;\">\n",
       "      <th></th>\n",
       "      <th>account</th>\n",
       "      <th>amount_x</th>\n",
       "      <th>amount_y</th>\n",
       "      <th>status</th>\n",
       "    </tr>\n",
       "  </thead>\n",
       "  <tbody>\n",
       "    <tr>\n",
       "      <th>0</th>\n",
       "      <td>3127143</td>\n",
       "      <td>3786.5</td>\n",
       "      <td>3786.5</td>\n",
       "      <td>Pass</td>\n",
       "    </tr>\n",
       "    <tr>\n",
       "      <th>1</th>\n",
       "      <td>4413248</td>\n",
       "      <td>135718.0</td>\n",
       "      <td>13518.0</td>\n",
       "      <td>Fail</td>\n",
       "    </tr>\n",
       "    <tr>\n",
       "      <th>2</th>\n",
       "      <td>4942722</td>\n",
       "      <td>8494.0</td>\n",
       "      <td>8494.0</td>\n",
       "      <td>Pass</td>\n",
       "    </tr>\n",
       "    <tr>\n",
       "      <th>3</th>\n",
       "      <td>5519726</td>\n",
       "      <td>19297.0</td>\n",
       "      <td>19297.0</td>\n",
       "      <td>Pass</td>\n",
       "    </tr>\n",
       "    <tr>\n",
       "      <th>4</th>\n",
       "      <td>9197174</td>\n",
       "      <td>11784.0</td>\n",
       "      <td>1194.0</td>\n",
       "      <td>Fail</td>\n",
       "    </tr>\n",
       "    <tr>\n",
       "      <th>5</th>\n",
       "      <td>9907844</td>\n",
       "      <td>1000.0</td>\n",
       "      <td>1000.0</td>\n",
       "      <td>Pass</td>\n",
       "    </tr>\n",
       "    <tr>\n",
       "      <th>6</th>\n",
       "      <td>9907848</td>\n",
       "      <td>56565.0</td>\n",
       "      <td>NaN</td>\n",
       "      <td>Fail</td>\n",
       "    </tr>\n",
       "  </tbody>\n",
       "</table>\n",
       "</div>"
      ],
      "text/plain": [
       "   account  amount_x  amount_y status\n",
       "0  3127143    3786.5    3786.5   Pass\n",
       "1  4413248  135718.0   13518.0   Fail\n",
       "2  4942722    8494.0    8494.0   Pass\n",
       "3  5519726   19297.0   19297.0   Pass\n",
       "4  9197174   11784.0    1194.0   Fail\n",
       "5  9907844    1000.0    1000.0   Pass\n",
       "6  9907848   56565.0       NaN   Fail"
      ]
     },
     "execution_count": 8,
     "metadata": {},
     "output_type": "execute_result"
    }
   ],
   "source": [
    "validation(dev_df, qa_df, 'account', 'amount')"
   ]
  },
  {
   "cell_type": "code",
   "execution_count": null,
   "metadata": {},
   "outputs": [],
   "source": []
  }
 ],
 "metadata": {
  "kernelspec": {
   "display_name": "Python 3",
   "language": "python",
   "name": "python3"
  },
  "language_info": {
   "codemirror_mode": {
    "name": "ipython",
    "version": 3
   },
   "file_extension": ".py",
   "mimetype": "text/x-python",
   "name": "python",
   "nbconvert_exporter": "python",
   "pygments_lexer": "ipython3",
   "version": "3.10.12"
  }
 },
 "nbformat": 4,
 "nbformat_minor": 2
}
