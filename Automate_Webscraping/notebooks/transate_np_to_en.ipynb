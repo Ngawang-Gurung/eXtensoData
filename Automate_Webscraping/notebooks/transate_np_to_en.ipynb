{
 "cells": [
  {
   "cell_type": "code",
   "execution_count": 1,
   "metadata": {},
   "outputs": [],
   "source": [
    "import pandas as pd"
   ]
  },
  {
   "cell_type": "code",
   "execution_count": 2,
   "metadata": {},
   "outputs": [
    {
     "name": "stderr",
     "output_type": "stream",
     "text": [
      "C:\\Windows\\Temp\\ipykernel_16444\\614370253.py:1: DtypeWarning: Columns (0,1,3,7) have mixed types. Specify dtype option on import or set low_memory=False.\n",
      "  df = pd.read_csv('gandaki.csv')\n"
     ]
    },
    {
     "data": {
      "text/plain": [
       "Index(['सि.नं.', 'मतदाता नं', 'मतदाताको नाम', 'उमेर (वर्ष)', 'लिङ्ग',\n",
       "       'पति/पत्नीको नाम', 'पिता/माताको नाम', 'विवरण'],\n",
       "      dtype='object')"
      ]
     },
     "execution_count": 2,
     "metadata": {},
     "output_type": "execute_result"
    }
   ],
   "source": [
    "df = pd.read_csv('gandaki.csv')\n",
    "df.columns"
   ]
  },
  {
   "cell_type": "code",
   "execution_count": 3,
   "metadata": {},
   "outputs": [
    {
     "data": {
      "text/html": [
       "<div>\n",
       "<style scoped>\n",
       "    .dataframe tbody tr th:only-of-type {\n",
       "        vertical-align: middle;\n",
       "    }\n",
       "\n",
       "    .dataframe tbody tr th {\n",
       "        vertical-align: top;\n",
       "    }\n",
       "\n",
       "    .dataframe thead th {\n",
       "        text-align: right;\n",
       "    }\n",
       "</style>\n",
       "<table border=\"1\" class=\"dataframe\">\n",
       "  <thead>\n",
       "    <tr style=\"text-align: right;\">\n",
       "      <th></th>\n",
       "      <th>सि.नं.</th>\n",
       "      <th>मतदाता नं</th>\n",
       "      <th>मतदाताको नाम</th>\n",
       "      <th>उमेर (वर्ष)</th>\n",
       "      <th>लिङ्ग</th>\n",
       "      <th>पति/पत्नीको नाम</th>\n",
       "      <th>पिता/माताको नाम</th>\n",
       "      <th>विवरण</th>\n",
       "    </tr>\n",
       "  </thead>\n",
       "  <tbody>\n",
       "    <tr>\n",
       "      <th>0</th>\n",
       "      <td>1</td>\n",
       "      <td>25502821</td>\n",
       "      <td>अक्कल बहादुर कुंवर</td>\n",
       "      <td>52</td>\n",
       "      <td>पुरुष</td>\n",
       "      <td>सिता</td>\n",
       "      <td>नर बहादुर/ राम देवी</td>\n",
       "      <td>NaN</td>\n",
       "    </tr>\n",
       "    <tr>\n",
       "      <th>1</th>\n",
       "      <td>2</td>\n",
       "      <td>24566013</td>\n",
       "      <td>अक्षय अधिकारी</td>\n",
       "      <td>21</td>\n",
       "      <td>पुरुष</td>\n",
       "      <td>-</td>\n",
       "      <td>बालाराम अधिकारी / लक्ष्मी सुवेदी अधिकारी</td>\n",
       "      <td>NaN</td>\n",
       "    </tr>\n",
       "    <tr>\n",
       "      <th>2</th>\n",
       "      <td>3</td>\n",
       "      <td>20739424</td>\n",
       "      <td>अगने कामी</td>\n",
       "      <td>62</td>\n",
       "      <td>पुरुष</td>\n",
       "      <td>गुमा</td>\n",
       "      <td>नन्द विर/ पुर्ण</td>\n",
       "      <td>NaN</td>\n",
       "    </tr>\n",
       "    <tr>\n",
       "      <th>3</th>\n",
       "      <td>4</td>\n",
       "      <td>7942632</td>\n",
       "      <td>अगन्धर दाहाल</td>\n",
       "      <td>72</td>\n",
       "      <td>पुरुष</td>\n",
       "      <td>धनु माया</td>\n",
       "      <td>गोपि लाल/ डम्मर कुमारी</td>\n",
       "      <td>NaN</td>\n",
       "    </tr>\n",
       "    <tr>\n",
       "      <th>4</th>\n",
       "      <td>5</td>\n",
       "      <td>7943081</td>\n",
       "      <td>अगन्धर सुनार</td>\n",
       "      <td>66</td>\n",
       "      <td>पुरुष</td>\n",
       "      <td>मिठी</td>\n",
       "      <td>गंगे / हर्कली</td>\n",
       "      <td>NaN</td>\n",
       "    </tr>\n",
       "  </tbody>\n",
       "</table>\n",
       "</div>"
      ],
      "text/plain": [
       "  सि.नं. मतदाता नं        मतदाताको नाम उमेर (वर्ष)  लिङ्ग पति/पत्नीको नाम  \\\n",
       "0      1  25502821  अक्कल बहादुर कुंवर          52  पुरुष            सिता   \n",
       "1      2  24566013       अक्षय अधिकारी          21  पुरुष               -   \n",
       "2      3  20739424           अगने कामी          62  पुरुष            गुमा   \n",
       "3      4   7942632        अगन्धर दाहाल          72  पुरुष        धनु माया   \n",
       "4      5   7943081        अगन्धर सुनार          66  पुरुष            मिठी   \n",
       "\n",
       "                            पिता/माताको नाम विवरण  \n",
       "0                       नर बहादुर/ राम देवी   NaN  \n",
       "1  बालाराम अधिकारी / लक्ष्मी सुवेदी अधिकारी   NaN  \n",
       "2                           नन्द विर/ पुर्ण   NaN  \n",
       "3                    गोपि लाल/ डम्मर कुमारी   NaN  \n",
       "4                             गंगे / हर्कली   NaN  "
      ]
     },
     "execution_count": 3,
     "metadata": {},
     "output_type": "execute_result"
    }
   ],
   "source": [
    "df.head()"
   ]
  },
  {
   "cell_type": "code",
   "execution_count": 4,
   "metadata": {},
   "outputs": [
    {
     "name": "stdout",
     "output_type": "stream",
     "text": [
      "<class 'pandas.core.frame.DataFrame'>\n",
      "RangeIndex: 1644037 entries, 0 to 1644036\n",
      "Data columns (total 8 columns):\n",
      " #   Column           Non-Null Count    Dtype \n",
      "---  ------           --------------    ----- \n",
      " 0   सि.नं.           1644037 non-null  object\n",
      " 1   मतदाता नं        1644037 non-null  object\n",
      " 2   मतदाताको नाम     1644037 non-null  object\n",
      " 3   उमेर (वर्ष)      1644037 non-null  object\n",
      " 4   लिङ्ग            1644037 non-null  object\n",
      " 5   पति/पत्नीको नाम  1642614 non-null  object\n",
      " 6   पिता/माताको नाम  1644037 non-null  object\n",
      " 7   विवरण            1 non-null        object\n",
      "dtypes: object(8)\n",
      "memory usage: 100.3+ MB\n"
     ]
    }
   ],
   "source": [
    "df.info()"
   ]
  },
  {
   "cell_type": "markdown",
   "metadata": {},
   "source": [
    "### Preprocessing"
   ]
  },
  {
   "cell_type": "code",
   "execution_count": 5,
   "metadata": {},
   "outputs": [],
   "source": [
    "df = df.drop('विवरण', axis=1) "
   ]
  },
  {
   "cell_type": "code",
   "execution_count": 6,
   "metadata": {},
   "outputs": [],
   "source": [
    "df.rename(columns={'सि.नं.': 'S. N.', 'मतदाता नं': 'Voter ID', 'मतदाताको नाम': 'Voter\\'s Name', 'उमेर (वर्ष)': 'Age (Years)', \n",
    "'लिङ्ग': 'Gender', 'पति/पत्नीको नाम': 'Husband/Wife\\'s Name', 'पिता/माताको नाम': 'Father/Mother\\'s Name'}, inplace=True)"
   ]
  },
  {
   "cell_type": "code",
   "execution_count": 7,
   "metadata": {},
   "outputs": [],
   "source": [
    "gender_map = {'पुरुष': 'male', 'महिला': 'female'} \n",
    "\n",
    "df['Gender'] = df['Gender'].map(gender_map)"
   ]
  },
  {
   "cell_type": "code",
   "execution_count": 8,
   "metadata": {},
   "outputs": [],
   "source": [
    "df = df.head()"
   ]
  },
  {
   "cell_type": "markdown",
   "metadata": {},
   "source": [
    "### Google Trans\n",
    "\n",
    "- Too slow, alternative is translate on Google Sheet"
   ]
  },
  {
   "cell_type": "code",
   "execution_count": 9,
   "metadata": {},
   "outputs": [],
   "source": [
    "# !pip install googletrans==4.0.0-rc1"
   ]
  },
  {
   "cell_type": "code",
   "execution_count": 10,
   "metadata": {},
   "outputs": [],
   "source": [
    "# !pip install googletrans --upgrade"
   ]
  },
  {
   "cell_type": "code",
   "execution_count": 11,
   "metadata": {},
   "outputs": [
    {
     "data": {
      "text/html": [
       "<div>\n",
       "<style scoped>\n",
       "    .dataframe tbody tr th:only-of-type {\n",
       "        vertical-align: middle;\n",
       "    }\n",
       "\n",
       "    .dataframe tbody tr th {\n",
       "        vertical-align: top;\n",
       "    }\n",
       "\n",
       "    .dataframe thead th {\n",
       "        text-align: right;\n",
       "    }\n",
       "</style>\n",
       "<table border=\"1\" class=\"dataframe\">\n",
       "  <thead>\n",
       "    <tr style=\"text-align: right;\">\n",
       "      <th></th>\n",
       "      <th>S. N.</th>\n",
       "      <th>Voter ID</th>\n",
       "      <th>Voter's Name</th>\n",
       "      <th>Age (Years)</th>\n",
       "      <th>Gender</th>\n",
       "      <th>Husband/Wife's Name</th>\n",
       "      <th>Father/Mother's Name</th>\n",
       "    </tr>\n",
       "  </thead>\n",
       "  <tbody>\n",
       "    <tr>\n",
       "      <th>0</th>\n",
       "      <td>1</td>\n",
       "      <td>25502821</td>\n",
       "      <td>Akkal Bahadur Kunwar</td>\n",
       "      <td>52</td>\n",
       "      <td>male</td>\n",
       "      <td>Attachment</td>\n",
       "      <td>Male Bahadur/ Ram Devi</td>\n",
       "    </tr>\n",
       "    <tr>\n",
       "      <th>1</th>\n",
       "      <td>2</td>\n",
       "      <td>24566013</td>\n",
       "      <td>Renewable officer</td>\n",
       "      <td>21</td>\n",
       "      <td>male</td>\n",
       "      <td>-</td>\n",
       "      <td>Balaram Officer / Lakshmi Suvedi Officer</td>\n",
       "    </tr>\n",
       "    <tr>\n",
       "      <th>2</th>\n",
       "      <td>3</td>\n",
       "      <td>20739424</td>\n",
       "      <td>Agne kami</td>\n",
       "      <td>62</td>\n",
       "      <td>male</td>\n",
       "      <td>Guma</td>\n",
       "      <td>Nande Rain and Sagan</td>\n",
       "    </tr>\n",
       "    <tr>\n",
       "      <th>3</th>\n",
       "      <td>4</td>\n",
       "      <td>7942632</td>\n",
       "      <td>Previousness Dahal</td>\n",
       "      <td>72</td>\n",
       "      <td>male</td>\n",
       "      <td>Dhanu Maya</td>\n",
       "      <td>Goop Red / Famper Virgin</td>\n",
       "    </tr>\n",
       "    <tr>\n",
       "      <th>4</th>\n",
       "      <td>5</td>\n",
       "      <td>7943081</td>\n",
       "      <td>Agile gold</td>\n",
       "      <td>66</td>\n",
       "      <td>male</td>\n",
       "      <td>Hug</td>\n",
       "      <td>Gange / Harkali</td>\n",
       "    </tr>\n",
       "  </tbody>\n",
       "</table>\n",
       "</div>"
      ],
      "text/plain": [
       "  S. N.  Voter ID          Voter's Name Age (Years) Gender  \\\n",
       "0     1  25502821  Akkal Bahadur Kunwar          52   male   \n",
       "1     2  24566013     Renewable officer          21   male   \n",
       "2     3  20739424             Agne kami          62   male   \n",
       "3     4   7942632    Previousness Dahal          72   male   \n",
       "4     5   7943081            Agile gold          66   male   \n",
       "\n",
       "  Husband/Wife's Name                      Father/Mother's Name  \n",
       "0          Attachment                    Male Bahadur/ Ram Devi  \n",
       "1                   -  Balaram Officer / Lakshmi Suvedi Officer  \n",
       "2                Guma                      Nande Rain and Sagan  \n",
       "3          Dhanu Maya                  Goop Red / Famper Virgin  \n",
       "4                 Hug                           Gange / Harkali  "
      ]
     },
     "execution_count": 11,
     "metadata": {},
     "output_type": "execute_result"
    }
   ],
   "source": [
    "import pandas as pd\n",
    "from googletrans import Translator\n",
    "\n",
    "translator = Translator()\n",
    "\n",
    "def translate_to_english(text):\n",
    "  if pd.isna(text):  \n",
    "    return \"\" \n",
    "  try:\n",
    "    translation = translator.translate(text, dest='en').text\n",
    "    return translation\n",
    "  except Exception as e:\n",
    "    print(f\"Error translating {text}: {e}\")\n",
    "    return text  # Return original text in case of errors\n",
    "\n",
    "# cols_to_translate = ['मतदाताको नाम', 'पति/पत्नीको नाम', 'पिता/माताको नाम']\n",
    "cols_to_translate = ['Voter\\'s Name', 'Husband/Wife\\'s Name', 'Father/Mother\\'s Name']\n",
    "\n",
    "for col in cols_to_translate:\n",
    "  df[col] = df[col].apply(translate_to_english)\n",
    "\n",
    "df"
   ]
  }
 ],
 "metadata": {
  "kernelspec": {
   "display_name": "Python 3",
   "language": "python",
   "name": "python3"
  },
  "language_info": {
   "codemirror_mode": {
    "name": "ipython",
    "version": 3
   },
   "file_extension": ".py",
   "mimetype": "text/x-python",
   "name": "python",
   "nbconvert_exporter": "python",
   "pygments_lexer": "ipython3",
   "version": "3.12.3"
  }
 },
 "nbformat": 4,
 "nbformat_minor": 2
}
