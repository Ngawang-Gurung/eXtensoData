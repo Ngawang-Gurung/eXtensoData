{
 "cells": [
  {
   "cell_type": "code",
   "execution_count": 111,
   "metadata": {},
   "outputs": [],
   "source": [
    "# !pip install selenium"
   ]
  },
  {
   "cell_type": "markdown",
   "metadata": {},
   "source": [
    "### Import Libraries"
   ]
  },
  {
   "cell_type": "code",
   "execution_count": 12,
   "metadata": {},
   "outputs": [],
   "source": [
    "from selenium import webdriver\n",
    "from selenium.webdriver.common.by import By\n",
    "import pandas as pd"
   ]
  },
  {
   "cell_type": "markdown",
   "metadata": {},
   "source": [
    "### Creating Webdriver *for* Browser Automation"
   ]
  },
  {
   "cell_type": "code",
   "execution_count": 13,
   "metadata": {},
   "outputs": [],
   "source": [
    "driver = webdriver.Firefox()\n",
    "# driver = webdriver.Chrome()"
   ]
  },
  {
   "cell_type": "code",
   "execution_count": 58,
   "metadata": {},
   "outputs": [],
   "source": [
    "# driver.get(\"https://election.gov.np/np/page/voter-list-db\")\n",
    "driver.get(\"https://voterlist.election.gov.np/bbvrs1/index_2.php\")\n",
    "\n",
    "# driver.get(\"https://www.selenium.dev/selenium/web/web-form.html\")"
   ]
  },
  {
   "cell_type": "code",
   "execution_count": 59,
   "metadata": {},
   "outputs": [
    {
     "name": "stdout",
     "output_type": "stream",
     "text": [
      "निर्वाचन आयोग अन्तिम मतदाता नामावली\n"
     ]
    }
   ],
   "source": [
    "title = driver.title\n",
    "print(title)"
   ]
  },
  {
   "cell_type": "code",
   "execution_count": 60,
   "metadata": {},
   "outputs": [],
   "source": [
    "driver.implicitly_wait(0.5)"
   ]
  },
  {
   "cell_type": "markdown",
   "metadata": {},
   "source": [
    "### Select Dropdowns and a Submit Button via XPATH"
   ]
  },
  {
   "cell_type": "code",
   "execution_count": 61,
   "metadata": {},
   "outputs": [],
   "source": [
    "# element = driver.find_element(By.XPATH, '//div[@class=\"margin-top-15\"]')\n",
    "# element2 = element.find_element(By.XPATH, '//div[@class=\"panel-group\"]')\n",
    "\n",
    "state_dropdown = driver.find_element(By.XPATH, '//select[@id=\"state\"]')\n",
    "dist_dropdown = driver.find_element(By.XPATH, '//select[@id=\"district\"]')\n",
    "mun_dropdown = driver.find_element(By.XPATH, '//select[@id=\"vdc_mun\"]')\n",
    "ward_dropdown = driver.find_element(By.XPATH, '//select[@id=\"ward\"]')\n",
    "reg_centre_dropdown = driver.find_element(By.XPATH, '//select[@id=\"reg_centre\"]')\n",
    "submit_button = driver.find_element(By.ID, \"btnSubmit\")"
   ]
  },
  {
   "cell_type": "markdown",
   "metadata": {},
   "source": [
    "### Select the First Value of Each Dropdown "
   ]
  },
  {
   "cell_type": "code",
   "execution_count": 62,
   "metadata": {},
   "outputs": [],
   "source": [
    "from selenium.webdriver.support.select import Select\n",
    "Select(state_dropdown).select_by_index(1)\n",
    "Select(dist_dropdown).select_by_index(1)\n",
    "Select(mun_dropdown).select_by_index(1)\n",
    "Select(ward_dropdown).select_by_index(1)\n",
    "Select(reg_centre_dropdown).select_by_index(1)\n",
    "submit_button.click()"
   ]
  },
  {
   "cell_type": "code",
   "execution_count": 63,
   "metadata": {},
   "outputs": [],
   "source": [
    "# print(driver.current_url)"
   ]
  },
  {
   "cell_type": "markdown",
   "metadata": {},
   "source": [
    "### Change the default 10 rows to 100 rows in a page"
   ]
  },
  {
   "cell_type": "code",
   "execution_count": 64,
   "metadata": {},
   "outputs": [],
   "source": [
    "\n",
    "entries_dropdown = driver.find_element(By.XPATH, '//select[@name=\"tbl_data_length\"]')\n",
    "Select(entries_dropdown).select_by_value(\"100\")"
   ]
  },
  {
   "cell_type": "code",
   "execution_count": 12,
   "metadata": {},
   "outputs": [],
   "source": [
    "# !pip install lxml"
   ]
  },
  {
   "cell_type": "code",
   "execution_count": 13,
   "metadata": {},
   "outputs": [],
   "source": [
    "# !pip install html5lib"
   ]
  },
  {
   "cell_type": "code",
   "execution_count": 14,
   "metadata": {},
   "outputs": [],
   "source": [
    "# driver.page_source"
   ]
  },
  {
   "cell_type": "code",
   "execution_count": 15,
   "metadata": {},
   "outputs": [],
   "source": [
    "# from bs4 import BeautifulSoup\n",
    "# import pandas as pd\n",
    "# from io import StringIO\n",
    "\n",
    "# page_content = driver.page_source\n",
    "# soup = BeautifulSoup(page_content, 'html.parser')\n",
    "# table = soup.find('table', class_='bbvrs_data dataTable')\n",
    "# df = pd.read_html(StringIO(str(table)))[0]\n",
    "# df\n",
    "# # df.to_csv('table1.csv', index=False)"
   ]
  },
  {
   "cell_type": "code",
   "execution_count": 16,
   "metadata": {},
   "outputs": [],
   "source": [
    "# select_next = driver.find_element(By.ID, \"tbl_data_next\")\n",
    "# select_next.click()"
   ]
  },
  {
   "cell_type": "markdown",
   "metadata": {},
   "source": [
    "### Scrape all the table until no more pages is available"
   ]
  },
  {
   "cell_type": "code",
   "execution_count": 18,
   "metadata": {},
   "outputs": [
    {
     "name": "stdout",
     "output_type": "stream",
     "text": [
      "No more pages available\n"
     ]
    }
   ],
   "source": [
    "from bs4 import BeautifulSoup\n",
    "import pandas as pd\n",
    "from io import StringIO\n",
    "from selenium.common.exceptions import NoSuchElementException\n",
    "\n",
    "df = pd.DataFrame()\n",
    "\n",
    "def scraper():\n",
    "    global df  \n",
    "    \n",
    "    page_content = driver.page_source\n",
    "    soup = BeautifulSoup(page_content, 'html.parser')\n",
    "    table = soup.find('table', class_='bbvrs_data dataTable')\n",
    "    data = pd.read_html(StringIO(str(table)))[0]\n",
    "    \n",
    "    df = pd.concat([df, data], ignore_index=True)\n",
    "\n",
    "while True:\n",
    "    # execute the scraper function\n",
    "    scraper()\n",
    "\n",
    "    try:\n",
    "        # find and click the next page link\n",
    "        next_page_link = driver.find_element(By.CLASS_NAME, \"paginate_enabled_next\")\n",
    "\n",
    "        if next_page_link:\n",
    "            driver.execute_script(\"arguments[0].click();\", next_page_link)\n",
    "            # next_page_link.click()\n",
    "    except NoSuchElementException:\n",
    "        print(\"No more pages available\")\n",
    "        break"
   ]
  },
  {
   "cell_type": "markdown",
   "metadata": {},
   "source": [
    "### Dataframe / Dataset of voters of a registration center"
   ]
  },
  {
   "cell_type": "code",
   "execution_count": 21,
   "metadata": {},
   "outputs": [
    {
     "data": {
      "text/html": [
       "<div>\n",
       "<style scoped>\n",
       "    .dataframe tbody tr th:only-of-type {\n",
       "        vertical-align: middle;\n",
       "    }\n",
       "\n",
       "    .dataframe tbody tr th {\n",
       "        vertical-align: top;\n",
       "    }\n",
       "\n",
       "    .dataframe thead th {\n",
       "        text-align: right;\n",
       "    }\n",
       "</style>\n",
       "<table border=\"1\" class=\"dataframe\">\n",
       "  <thead>\n",
       "    <tr style=\"text-align: right;\">\n",
       "      <th></th>\n",
       "      <th>सि.नं.</th>\n",
       "      <th>मतदाता नं</th>\n",
       "      <th>मतदाताको नाम</th>\n",
       "      <th>उमेर (वर्ष)</th>\n",
       "      <th>लिङ्ग</th>\n",
       "      <th>पति/पत्नीको नाम</th>\n",
       "      <th>पिता/माताको नाम</th>\n",
       "      <th>विवरण</th>\n",
       "    </tr>\n",
       "  </thead>\n",
       "  <tbody>\n",
       "    <tr>\n",
       "      <th>0</th>\n",
       "      <td>1</td>\n",
       "      <td>8008177</td>\n",
       "      <td>अगम सिंह लिम्बु</td>\n",
       "      <td>75</td>\n",
       "      <td>पुरुष</td>\n",
       "      <td>टिका माया</td>\n",
       "      <td>राज बहादुर/ धन माया</td>\n",
       "      <td>NaN</td>\n",
       "    </tr>\n",
       "    <tr>\n",
       "      <th>1</th>\n",
       "      <td>2</td>\n",
       "      <td>22005851</td>\n",
       "      <td>अनमोल तामाङ्ग</td>\n",
       "      <td>27</td>\n",
       "      <td>पुरुष</td>\n",
       "      <td>-</td>\n",
       "      <td>दावा प्रसाद/ बुद्धि माया</td>\n",
       "      <td>NaN</td>\n",
       "    </tr>\n",
       "    <tr>\n",
       "      <th>2</th>\n",
       "      <td>3</td>\n",
       "      <td>22112867</td>\n",
       "      <td>अनिता नेम्बाङ</td>\n",
       "      <td>28</td>\n",
       "      <td>महिला</td>\n",
       "      <td>खेम राज</td>\n",
       "      <td>नारायण दास/ दुर्गा माया</td>\n",
       "      <td>NaN</td>\n",
       "    </tr>\n",
       "    <tr>\n",
       "      <th>3</th>\n",
       "      <td>4</td>\n",
       "      <td>8007799</td>\n",
       "      <td>अनिता लिम्बु</td>\n",
       "      <td>56</td>\n",
       "      <td>महिला</td>\n",
       "      <td>बिरेन्द्र कुमार</td>\n",
       "      <td>मतन बहादुर/ भिम माया</td>\n",
       "      <td>NaN</td>\n",
       "    </tr>\n",
       "    <tr>\n",
       "      <th>4</th>\n",
       "      <td>5</td>\n",
       "      <td>14112798</td>\n",
       "      <td>अनिल गुरुङ्ग</td>\n",
       "      <td>29</td>\n",
       "      <td>पुरुष</td>\n",
       "      <td>-</td>\n",
       "      <td>खड्ग बहादुर/ सावित्री</td>\n",
       "      <td>NaN</td>\n",
       "    </tr>\n",
       "    <tr>\n",
       "      <th>...</th>\n",
       "      <td>...</td>\n",
       "      <td>...</td>\n",
       "      <td>...</td>\n",
       "      <td>...</td>\n",
       "      <td>...</td>\n",
       "      <td>...</td>\n",
       "      <td>...</td>\n",
       "      <td>...</td>\n",
       "    </tr>\n",
       "    <tr>\n",
       "      <th>783</th>\n",
       "      <td>784</td>\n",
       "      <td>8007821</td>\n",
       "      <td>हेमा जोगी</td>\n",
       "      <td>36</td>\n",
       "      <td>महिला</td>\n",
       "      <td>शिव कुमार</td>\n",
       "      <td>बबुर लाल/ तारा देवी</td>\n",
       "      <td>NaN</td>\n",
       "    </tr>\n",
       "    <tr>\n",
       "      <th>784</th>\n",
       "      <td>785</td>\n",
       "      <td>8007843</td>\n",
       "      <td>होम कुमारी गुरुङ्ग</td>\n",
       "      <td>73</td>\n",
       "      <td>महिला</td>\n",
       "      <td>खम्व सिहं</td>\n",
       "      <td>तीर्थ मान/ मङ्गल माया</td>\n",
       "      <td>NaN</td>\n",
       "    </tr>\n",
       "    <tr>\n",
       "      <th>785</th>\n",
       "      <td>786</td>\n",
       "      <td>8008034</td>\n",
       "      <td>होम कुमारी चौहान</td>\n",
       "      <td>71</td>\n",
       "      <td>महिला</td>\n",
       "      <td>तारा बहादुर</td>\n",
       "      <td>अम्बर बहादुर/ टंक माया</td>\n",
       "      <td>NaN</td>\n",
       "    </tr>\n",
       "    <tr>\n",
       "      <th>786</th>\n",
       "      <td>787</td>\n",
       "      <td>16608254</td>\n",
       "      <td>होम वहादुर खवास</td>\n",
       "      <td>36</td>\n",
       "      <td>पुरुष</td>\n",
       "      <td>गिता</td>\n",
       "      <td>डम्‍वर वहादुर/ इन्‍दिरा</td>\n",
       "      <td>NaN</td>\n",
       "    </tr>\n",
       "    <tr>\n",
       "      <th>787</th>\n",
       "      <td>788</td>\n",
       "      <td>13309795</td>\n",
       "      <td>ज्ञानुका देवी गुरुङ</td>\n",
       "      <td>52</td>\n",
       "      <td>महिला</td>\n",
       "      <td>मोहन</td>\n",
       "      <td>चित्र बहादुर/ नरी माया</td>\n",
       "      <td>NaN</td>\n",
       "    </tr>\n",
       "  </tbody>\n",
       "</table>\n",
       "<p>788 rows × 8 columns</p>\n",
       "</div>"
      ],
      "text/plain": [
       "     सि.नं.  मतदाता नं         मतदाताको नाम  उमेर (वर्ष)  लिङ्ग  \\\n",
       "0         1    8008177      अगम सिंह लिम्बु           75  पुरुष   \n",
       "1         2   22005851        अनमोल तामाङ्ग           27  पुरुष   \n",
       "2         3   22112867        अनिता नेम्बाङ           28  महिला   \n",
       "3         4    8007799         अनिता लिम्बु           56  महिला   \n",
       "4         5   14112798         अनिल गुरुङ्ग           29  पुरुष   \n",
       "..      ...        ...                  ...          ...    ...   \n",
       "783     784    8007821            हेमा जोगी           36  महिला   \n",
       "784     785    8007843   होम कुमारी गुरुङ्ग           73  महिला   \n",
       "785     786    8008034     होम कुमारी चौहान           71  महिला   \n",
       "786     787   16608254      होम वहादुर खवास           36  पुरुष   \n",
       "787     788   13309795  ज्ञानुका देवी गुरुङ           52  महिला   \n",
       "\n",
       "     पति/पत्नीको नाम           पिता/माताको नाम  विवरण  \n",
       "0          टिका माया       राज बहादुर/ धन माया    NaN  \n",
       "1                  -  दावा प्रसाद/ बुद्धि माया    NaN  \n",
       "2            खेम राज   नारायण दास/ दुर्गा माया    NaN  \n",
       "3    बिरेन्द्र कुमार      मतन बहादुर/ भिम माया    NaN  \n",
       "4                  -     खड्ग बहादुर/ सावित्री    NaN  \n",
       "..               ...                       ...    ...  \n",
       "783        शिव कुमार       बबुर लाल/ तारा देवी    NaN  \n",
       "784        खम्व सिहं     तीर्थ मान/ मङ्गल माया    NaN  \n",
       "785      तारा बहादुर    अम्बर बहादुर/ टंक माया    NaN  \n",
       "786             गिता   डम्‍वर वहादुर/ इन्‍दिरा    NaN  \n",
       "787             मोहन    चित्र बहादुर/ नरी माया    NaN  \n",
       "\n",
       "[788 rows x 8 columns]"
      ]
     },
     "execution_count": 21,
     "metadata": {},
     "output_type": "execute_result"
    }
   ],
   "source": [
    "df"
   ]
  },
  {
   "cell_type": "markdown",
   "metadata": {},
   "source": [
    "### Function to save df to table in MySQL database\n",
    "\n",
    "Improvements\n",
    "- Use of helper function for saving table\n",
    "- Store the passwords in .env file"
   ]
  },
  {
   "cell_type": "code",
   "execution_count": null,
   "metadata": {},
   "outputs": [],
   "source": [
    "import pandas as pd\n",
    "from sqlalchemy import create_engine\n",
    "from sqlalchemy import URL\n",
    "\n",
    "\n",
    "def df_table(dataframe, database_name, table_name):\n",
    "    \n",
    "    conn_url = URL.create(\n",
    "        \"mysql+mysqlconnector\",\n",
    "        username = \"root\",\n",
    "        password = \"mysql@123\",\n",
    "        host = \"localhost\",\n",
    "        port = 3306,\n",
    "        database = database_name) \n",
    "    \n",
    "    engine = create_engine(conn_url)\n",
    "    con = engine.connect()\n",
    "    dataframe.to_sql(table_name, con=con, if_exists='replace', index=False)  "
   ]
  },
  {
   "cell_type": "code",
   "execution_count": 24,
   "metadata": {},
   "outputs": [],
   "source": [
    "df_table(df, 'voter', 'output')"
   ]
  },
  {
   "cell_type": "code",
   "execution_count": 150,
   "metadata": {},
   "outputs": [],
   "source": [
    "driver.quit()"
   ]
  },
  {
   "cell_type": "code",
   "execution_count": 20,
   "metadata": {},
   "outputs": [],
   "source": [
    "# df.to_csv('output.csv', encoding='utf-8', index=False)"
   ]
  },
  {
   "cell_type": "code",
   "execution_count": 159,
   "metadata": {},
   "outputs": [],
   "source": [
    "# !pip install xlrd"
   ]
  },
  {
   "cell_type": "code",
   "execution_count": 160,
   "metadata": {},
   "outputs": [],
   "source": [
    "# !pip install openpyxl"
   ]
  },
  {
   "cell_type": "code",
   "execution_count": 161,
   "metadata": {},
   "outputs": [],
   "source": [
    "# df.to_excel('output.xlsx', index = False, sheet_name = 'NewSheet')"
   ]
  },
  {
   "cell_type": "markdown",
   "metadata": {},
   "source": [
    "### Functionality to go back to home page when no next page is available"
   ]
  },
  {
   "cell_type": "code",
   "execution_count": 25,
   "metadata": {},
   "outputs": [],
   "source": [
    "go_back = driver.find_element(By.CLASS_NAME, \"a_back\")\n",
    "go_back.click()"
   ]
  },
  {
   "cell_type": "markdown",
   "metadata": {},
   "source": [
    "### Putting it all together"
   ]
  },
  {
   "cell_type": "code",
   "execution_count": null,
   "metadata": {},
   "outputs": [],
   "source": [
    "from selenium import webdriver\n",
    "from selenium.webdriver.common.by import By\n",
    "from selenium.webdriver.support.ui import Select\n",
    "from selenium.common.exceptions import NoSuchElementException\n",
    "from bs4 import BeautifulSoup\n",
    "import pandas as pd\n",
    "from io import StringIO\n",
    "\n",
    "# Initialize WebDriver\n",
    "driver = webdriver.Firefox()\n",
    "driver.get(\"https://voterlist.election.gov.np/bbvrs1/index_2.php\")\n",
    "driver.implicitly_wait(0.2)\n",
    "\n",
    "df = pd.DataFrame()\n",
    "\n",
    "def post_submit_actions():\n",
    "    entries_dropdown = driver.find_element(By.XPATH, '//select[@name=\"tbl_data_length\"]')\n",
    "    Select(entries_dropdown).select_by_value(\"100\")\n",
    "\n",
    "    def scraper():\n",
    "        global df  \n",
    "        page_content = driver.page_source\n",
    "        soup = BeautifulSoup(page_content, 'html.parser')\n",
    "        table = soup.find('table', class_='bbvrs_data dataTable')\n",
    "        data = pd.read_html(StringIO(str(table)))[0]       \n",
    "        df = pd.concat([df, data], ignore_index=True)\n",
    "\n",
    "    while True:\n",
    "        scraper()\n",
    "\n",
    "        try:\n",
    "            next_page_link = driver.find_element(By.CLASS_NAME, \"paginate_enabled_next\")\n",
    "\n",
    "            if next_page_link:\n",
    "                driver.execute_script(\"arguments[0].click();\", next_page_link)\n",
    "                # next_page_link.click()\n",
    "        except NoSuchElementException:\n",
    "            print(\"No more pages available\")\n",
    "            break\n",
    "\n",
    "# Loop through each combination \n",
    "for state_index in range(4, 5):  #(1,7+1) # Maximum possible values\n",
    "    try:\n",
    "        for dist_index in range(1, 12): #(1, 14+1)\n",
    "            try:\n",
    "                for mun_index in range(1, 15): #(1, 18+1)\n",
    "                    try:\n",
    "                        for ward_index in range(1, 33+1): #(1, 33+1)\n",
    "                            try:\n",
    "                                for reg_centre_index in range(1, 9+1): #(1, 9+1)\n",
    "                                    try:\n",
    "                                        state_dropdown = driver.find_element(By.XPATH, '//select[@id=\"state\"]')\n",
    "                                        dist_dropdown = driver.find_element(By.XPATH, '//select[@id=\"district\"]')\n",
    "                                        mun_dropdown = driver.find_element(By.XPATH, '//select[@id=\"vdc_mun\"]')\n",
    "                                        ward_dropdown = driver.find_element(By.XPATH, '//select[@id=\"ward\"]')\n",
    "                                        reg_centre_dropdown = driver.find_element(By.XPATH, '//select[@id=\"reg_centre\"]')\n",
    "                                        submit_button = driver.find_element(By.ID, \"btnSubmit\")\n",
    "\n",
    "                                        Select(state_dropdown).select_by_index(state_index)\n",
    "                                        Select(dist_dropdown).select_by_index(dist_index)\n",
    "                                        Select(mun_dropdown).select_by_index(mun_index)\n",
    "                                        Select(ward_dropdown).select_by_index(ward_index)\n",
    "                                        Select(reg_centre_dropdown).select_by_index(reg_centre_index)\n",
    "                                        submit_button.click()\n",
    "\n",
    "                                        post_submit_actions()\n",
    "                                        \n",
    "                                        go_back = driver.find_element(By.CLASS_NAME, \"a_back\")\n",
    "                                        go_back.click()\n",
    "                                        \n",
    "                                    except NoSuchElementException:\n",
    "                                        print(\"Element not found. Skipping...\")\n",
    "                            except NoSuchElementException:\n",
    "                                break\n",
    "                    except NoSuchElementException:\n",
    "                        break\n",
    "            except NoSuchElementException:\n",
    "                break\n",
    "    except NoSuchElementException:\n",
    "        break\n",
    "# driver.quit()\n"
   ]
  },
  {
   "cell_type": "code",
   "execution_count": 14,
   "metadata": {},
   "outputs": [],
   "source": [
    "# df.to_csv('gandaki.csv',  header=True,  index=False)"
   ]
  },
  {
   "cell_type": "markdown",
   "metadata": {},
   "source": [
    "### Few improvements\n",
    "\n",
    "- No repetion of Voter ID \n",
    "- Modified entries_dropdown from 10 to 1000 to scrap in single attempt but no significant improvement in speed "
   ]
  },
  {
   "cell_type": "code",
   "execution_count": 89,
   "metadata": {},
   "outputs": [],
   "source": [
    "from selenium import webdriver\n",
    "from selenium.webdriver.common.by import By\n",
    "from selenium.webdriver.support.ui import Select\n",
    "from selenium.common.exceptions import NoSuchElementException\n",
    "from bs4 import BeautifulSoup\n",
    "import pandas as pd\n",
    "from io import StringIO\n",
    "\n",
    "# Initialize WebDriver\n",
    "driver = webdriver.Firefox()\n",
    "driver.get(\"https://voterlist.election.gov.np/bbvrs1/index_2.php\")\n",
    "driver.implicitly_wait(0.2)\n",
    "\n",
    "df = pd.DataFrame()\n",
    "\n",
    "def scraper():\n",
    "    global df \n",
    "    page_content = driver.page_source\n",
    "    soup = BeautifulSoup(page_content, 'html.parser')\n",
    "    table = soup.find('table', class_='bbvrs_data dataTable')\n",
    "    converters = {'मतदाता नं': str}\n",
    "    data = pd.read_html(StringIO(str(table)), converters=converters)[0]\n",
    "    df = pd.concat([df, data], ignore_index=True)\n",
    "\n",
    "def post_submit_actions():\n",
    "    driver.execute_script(\"document.querySelector('select[name=\\\"tbl_data_length\\\"] option[value=\\\"100\\\"]').value = '10000';\")\n",
    "    entries_dropdown = driver.find_element(By.XPATH, '//select[@name=\"tbl_data_length\"]')\n",
    "    Select(entries_dropdown).select_by_value(\"10000\")\n",
    "\n",
    "    scraper()\n",
    "\n",
    "# Loop through each combination \n",
    "for state_index in range(2, 3):  #(1,7+1)\n",
    "    try:\n",
    "        for dist_index in range(1, 9): #(1, 14+1)\n",
    "            try:\n",
    "                for mun_index in range(1, 19): #(1, 18+1)\n",
    "                    try:\n",
    "                        for ward_index in range(1, 26): #(1, 33+1)\n",
    "                            try:\n",
    "                                for reg_centre_index in range(1, 10): #(1, 9+1)\n",
    "                                    try:\n",
    "                                        state_dropdown = driver.find_element(By.XPATH, '//select[@id=\"state\"]')\n",
    "                                        dist_dropdown = driver.find_element(By.XPATH, '//select[@id=\"district\"]')\n",
    "                                        mun_dropdown = driver.find_element(By.XPATH, '//select[@id=\"vdc_mun\"]')\n",
    "                                        ward_dropdown = driver.find_element(By.XPATH, '//select[@id=\"ward\"]')\n",
    "                                        reg_centre_dropdown = driver.find_element(By.XPATH, '//select[@id=\"reg_centre\"]')\n",
    "                                        submit_button = driver.find_element(By.ID, \"btnSubmit\")\n",
    "\n",
    "                                        Select(state_dropdown).select_by_index(state_index)\n",
    "                                        Select(dist_dropdown).select_by_index(dist_index)\n",
    "                                        Select(mun_dropdown).select_by_index(mun_index)\n",
    "                                        Select(ward_dropdown).select_by_index(ward_index)\n",
    "                                        Select(reg_centre_dropdown).select_by_index(reg_centre_index)\n",
    "                                        submit_button.click()\n",
    "\n",
    "                                        post_submit_actions()\n",
    "                                        \n",
    "                                        go_back = driver.find_element(By.CLASS_NAME, \"a_back\")\n",
    "                                        go_back.click()\n",
    "                                        \n",
    "                                    except NoSuchElementException:\n",
    "                                        break\n",
    "                            except NoSuchElementException:\n",
    "                                break\n",
    "                    except NoSuchElementException:\n",
    "                        break\n",
    "            except NoSuchElementException:\n",
    "                break\n",
    "    except NoSuchElementException:\n",
    "        break\n",
    "\n",
    "# driver.quit()\n"
   ]
  }
 ],
 "metadata": {
  "kernelspec": {
   "display_name": "Python 3",
   "language": "python",
   "name": "python3"
  },
  "language_info": {
   "codemirror_mode": {
    "name": "ipython",
    "version": 3
   },
   "file_extension": ".py",
   "mimetype": "text/x-python",
   "name": "python",
   "nbconvert_exporter": "python",
   "pygments_lexer": "ipython3",
   "version": "3.12.3"
  }
 },
 "nbformat": 4,
 "nbformat_minor": 2
}
